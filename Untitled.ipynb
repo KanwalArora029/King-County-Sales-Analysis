{
 "cells": [
  {
   "cell_type": "code",
   "execution_count": null,
   "metadata": {},
   "outputs": [],
   "source": [
    "df['renovated'] = df.apply(lambda row: 0 if row.yr_renovated < 1 else 1, axis=1)"
   ]
  },
  {
   "cell_type": "code",
   "execution_count": null,
   "metadata": {},
   "outputs": [],
   "source": [
    "#checking r-squared and adjusted r-squared for predictors chosen by RFE\n",
    "i = 1\n",
    "while i <= (int(len(df.drop('price', axis=1).columns))):\n",
    "    linreg = LinearRegression()\n",
    "    selector = RFE(linreg, n_features_to_select = i)\n",
    "    selector = selector.fit(X_train, y_train) \n",
    "    selected_columns = X.columns[selector.support_ ]\n",
    "\n",
    "    model = sm.OLS(y_train,X_train[selected_columns])\n",
    "    results = model.fit()\n",
    "    results.summary()\n",
    "    print(str(i) + \" predictors -\")\n",
    "    print(\"R-squared = \" + str(results.rsquared))\n",
    "    print(\"Adjusted R-squared = \" + str(results.rsquared_adj))\n",
    "    print(str((X_train.columns[selector.support_])))\n",
    "    print(\"--------------------------------------------\")\n",
    "    i += 1"
   ]
  },
  {
   "cell_type": "code",
   "execution_count": null,
   "metadata": {},
   "outputs": [],
   "source": [
    "#coefficients of regression model\n",
    "i=0\n",
    "while i < len(selected_columns):\n",
    "    print(str(selected_columns[i]) + \" \" + str(linreg.coef_[i]))\n",
    "    i += 1"
   ]
  },
  {
   "cell_type": "code",
   "execution_count": null,
   "metadata": {},
   "outputs": [],
   "source": [
    "#back-transformed coefficients \n",
    "i=0\n",
    "while i < len(selected_columns):\n",
    "    print(str(selected_columns[i]) + \" \" + str(10**(linreg.coef_[i])))\n",
    "    i += 1"
   ]
  },
  {
   "cell_type": "code",
   "execution_count": null,
   "metadata": {},
   "outputs": [],
   "source": [
    "#calculating mean squared error of train and test data\n",
    "from sklearn.metrics import mean_squared_error\n",
    "y_hat_train = linreg.predict(X_train)\n",
    "y_hat_test = linreg.predict(X_test)\n",
    "train_mse = mean_squared_error(y_train, y_hat_train)\n",
    "test_mse = mean_squared_error(y_test, y_hat_test)\n",
    "print('Train Mean Squarred Error:', train_mse)\n",
    "print('Test Mean Squarred Error:', test_mse)"
   ]
  },
  {
   "cell_type": "code",
   "execution_count": null,
   "metadata": {},
   "outputs": [],
   "source": [
    "#linear regression using all 17 predictors\n",
    "linreg = LinearRegression()\n",
    "selector = RFE(linreg, n_features_to_select = 17)\n",
    "selector = selector.fit(X_train, y_train) \n",
    "selected_columns = X.columns[selector.support_]\n",
    "linreg.fit(X_train[selected_columns],y_train)"
   ]
  }
 ],
 "metadata": {
  "kernelspec": {
   "display_name": "Python 3",
   "language": "python",
   "name": "python3"
  },
  "language_info": {
   "codemirror_mode": {
    "name": "ipython",
    "version": 3
   },
   "file_extension": ".py",
   "mimetype": "text/x-python",
   "name": "python",
   "nbconvert_exporter": "python",
   "pygments_lexer": "ipython3",
   "version": "3.7.0"
  }
 },
 "nbformat": 4,
 "nbformat_minor": 2
}
