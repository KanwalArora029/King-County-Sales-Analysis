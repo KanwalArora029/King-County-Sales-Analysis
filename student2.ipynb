{
 "cells": [
  {
   "cell_type": "code",
   "execution_count": 54,
   "metadata": {},
   "outputs": [],
   "source": [
    "#importing required libraries and setting matplotlib to inline\n",
    "import pandas as pd\n",
    "import numpy as np\n",
    "import seaborn as sns\n",
    "import matplotlib.pyplot as plt\n",
    "import math\n",
    "import statsmodels.formula.api as smf\n",
    "from sklearn.linear_model import LinearRegression\n",
    "from sklearn.feature_selection import RFE\n",
    "from sklearn.model_selection import train_test_split\n",
    "%matplotlib inline"
   ]
  },
  {
   "cell_type": "code",
   "execution_count": 55,
   "metadata": {},
   "outputs": [],
   "source": [
    "#grabbing the dataset\n",
    "df = pd.read_csv('kc_house_data.csv')"
   ]
  },
  {
   "cell_type": "code",
   "execution_count": 56,
   "metadata": {},
   "outputs": [],
   "source": [
    "#dropping id and date columns\n",
    "df.drop(['id', 'date'], axis=1, inplace=True)"
   ]
  },
  {
   "cell_type": "code",
   "execution_count": 57,
   "metadata": {},
   "outputs": [],
   "source": [
    "#replacing missing data in sqft_basement with column mean\n",
    "sqft_basement_numerical = df.sqft_basement[df.sqft_basement != '?']\n",
    "sqft_basement_numerical = sqft_basement_numerical.astype(float)\n",
    "sqft_basement_numerical_mean = round(sqft_basement_numerical.mean(),1)\n",
    "df['sqft_basement'] = (df['sqft_basement'].map(lambda x: sqft_basement_numerical_mean if x == '?' else x)).astype(float)"
   ]
  },
  {
   "cell_type": "code",
   "execution_count": 58,
   "metadata": {},
   "outputs": [],
   "source": [
    "#replacing null values in view with 0\n",
    "df['view'] = df['view'].fillna(0)"
   ]
  },
  {
   "cell_type": "code",
   "execution_count": 59,
   "metadata": {},
   "outputs": [],
   "source": [
    "#replacing null values in waterfront with 0\n",
    "df['waterfront'] = df['waterfront'].fillna(0)"
   ]
  },
  {
   "cell_type": "code",
   "execution_count": 60,
   "metadata": {},
   "outputs": [],
   "source": [
    "#replacing yr_renovated with categorical column renovated\n",
    "df['yr_renovated'] = df['yr_renovated'].fillna(0)\n",
    "df['renovated'] = df.apply(lambda row: 0 if row.yr_renovated < 1 else 1, axis=1)\n",
    "df.drop('yr_renovated', axis=1, inplace=True)"
   ]
  },
  {
   "cell_type": "code",
   "execution_count": 61,
   "metadata": {},
   "outputs": [],
   "source": [
    "#dropping lat, long, and zipcode columns\n",
    "df.drop('lat', axis=1, inplace=True)\n",
    "df.drop('long', axis=1, inplace=True)\n",
    "df.drop('zipcode', axis=1, inplace=True)"
   ]
  },
  {
   "cell_type": "code",
   "execution_count": null,
   "metadata": {},
   "outputs": [],
   "source": []
  },
  {
   "cell_type": "code",
   "execution_count": 62,
   "metadata": {},
   "outputs": [],
   "source": [
    "#stepwise selection function\n",
    "import statsmodels.api as sm\n",
    "\n",
    "def stepwise_selection(X, y, \n",
    "                       initial_list=[], \n",
    "                       threshold_in=0.01, \n",
    "                       threshold_out = 0.05, \n",
    "                       verbose=True):\n",
    "    \"\"\" Perform a forward-backward feature selection \n",
    "    based on p-value from statsmodels.api.OLS\n",
    "    Arguments:\n",
    "        X - pandas.DataFrame with candidate features\n",
    "        y - list-like with the target\n",
    "        initial_list - list of features to start with (column names of X)\n",
    "        threshold_in - include a feature if its p-value < threshold_in\n",
    "        threshold_out - exclude a feature if its p-value > threshold_out\n",
    "        verbose - whether to print the sequence of inclusions and exclusions\n",
    "    Returns: list of selected features \n",
    "    Always set threshold_in < threshold_out to avoid infinite looping.\n",
    "    See https://en.wikipedia.org/wiki/Stepwise_regression for the details\n",
    "    \"\"\"\n",
    "    included = list(initial_list)\n",
    "    while True:\n",
    "        changed=False\n",
    "        # forward step\n",
    "        excluded = list(set(X.columns)-set(included))\n",
    "        new_pval = pd.Series(index=excluded)\n",
    "        for new_column in excluded:\n",
    "            model = sm.OLS(y, sm.add_constant(pd.DataFrame(X[included+[new_column]]))).fit()\n",
    "            new_pval[new_column] = model.pvalues[new_column]\n",
    "        best_pval = new_pval.min()\n",
    "        if best_pval < threshold_in:\n",
    "            best_feature = new_pval.idxmin()\n",
    "            included.append(best_feature)\n",
    "            changed=True\n",
    "            if verbose:\n",
    "                print('Add  {:30} with p-value {:.6}'.format(best_feature, best_pval))\n",
    "\n",
    "        # backward step\n",
    "        model = sm.OLS(y, sm.add_constant(pd.DataFrame(X[included]))).fit()\n",
    "        # use all coefs except intercept\n",
    "        pvalues = model.pvalues.iloc[1:]\n",
    "        worst_pval = pvalues.max() # null if pvalues is empty\n",
    "        if worst_pval > threshold_out:\n",
    "            changed=True\n",
    "            worst_feature = pvalues.argmax()\n",
    "            included.remove(worst_feature)\n",
    "            if verbose:\n",
    "                print('Drop {:30} with p-value {:.6}'.format(worst_feature, worst_pval))\n",
    "        if not changed:\n",
    "            break\n",
    "    return included"
   ]
  },
  {
   "cell_type": "code",
   "execution_count": 10,
   "metadata": {},
   "outputs": [
    {
     "data": {
      "text/plain": [
       "LinearRegression(copy_X=True, fit_intercept=True, n_jobs=1, normalize=False)"
      ]
     },
     "execution_count": 10,
     "metadata": {},
     "output_type": "execute_result"
    }
   ],
   "source": [
    "#initial linear regression with all variables\n",
    "X = df.drop('price', axis=1)\n",
    "y = df.price\n",
    "X_train, X_test, y_train, y_test = train_test_split(X, y, test_size = 0.25, random_state=47)\n",
    "linreg = LinearRegression()\n",
    "linreg.fit(X_train,y_train)"
   ]
  },
  {
   "cell_type": "code",
   "execution_count": 11,
   "metadata": {},
   "outputs": [
    {
     "data": {
      "text/plain": [
       "0.6546452728295744"
      ]
     },
     "execution_count": 11,
     "metadata": {},
     "output_type": "execute_result"
    }
   ],
   "source": [
    "linreg.score(X_train, y_train)"
   ]
  },
  {
   "cell_type": "code",
   "execution_count": 12,
   "metadata": {},
   "outputs": [],
   "source": [
    "#for i in df.columns:\n",
    " #   df[i] = (df[i] - df[i].mean()) / df[i].std()\n",
    "#df.head()"
   ]
  },
  {
   "cell_type": "code",
   "execution_count": 13,
   "metadata": {},
   "outputs": [
    {
     "data": {
      "text/plain": [
       "0.6546452728295744"
      ]
     },
     "execution_count": 13,
     "metadata": {},
     "output_type": "execute_result"
    }
   ],
   "source": [
    "X = df.drop('price', axis=1)\n",
    "y = df.price\n",
    "X_train, X_test, y_train, y_test = train_test_split(X, y, test_size = 0.25, random_state=47)\n",
    "linreg = LinearRegression()\n",
    "linreg.fit(X_train,y_train)\n",
    "linreg.score(X_train, y_train)"
   ]
  },
  {
   "cell_type": "code",
   "execution_count": 63,
   "metadata": {},
   "outputs": [
    {
     "data": {
      "text/plain": [
       "array([[<matplotlib.axes._subplots.AxesSubplot object at 0x000001CCEF0C3940>,\n",
       "        <matplotlib.axes._subplots.AxesSubplot object at 0x000001CCEF13C320>,\n",
       "        <matplotlib.axes._subplots.AxesSubplot object at 0x000001CCEF164630>,\n",
       "        <matplotlib.axes._subplots.AxesSubplot object at 0x000001CCEF18BBA8>],\n",
       "       [<matplotlib.axes._subplots.AxesSubplot object at 0x000001CCF15DE278>,\n",
       "        <matplotlib.axes._subplots.AxesSubplot object at 0x000001CCF15DE2B0>,\n",
       "        <matplotlib.axes._subplots.AxesSubplot object at 0x000001CCF162EF98>,\n",
       "        <matplotlib.axes._subplots.AxesSubplot object at 0x000001CCF165F668>],\n",
       "       [<matplotlib.axes._subplots.AxesSubplot object at 0x000001CCF1686CF8>,\n",
       "        <matplotlib.axes._subplots.AxesSubplot object at 0x000001CCF16B83C8>,\n",
       "        <matplotlib.axes._subplots.AxesSubplot object at 0x000001CCF16DFA58>,\n",
       "        <matplotlib.axes._subplots.AxesSubplot object at 0x000001CCF1711128>],\n",
       "       [<matplotlib.axes._subplots.AxesSubplot object at 0x000001CCF17387B8>,\n",
       "        <matplotlib.axes._subplots.AxesSubplot object at 0x000001CCF1762E48>,\n",
       "        <matplotlib.axes._subplots.AxesSubplot object at 0x000001CCF1970518>,\n",
       "        <matplotlib.axes._subplots.AxesSubplot object at 0x000001CCF1998BA8>]],\n",
       "      dtype=object)"
      ]
     },
     "execution_count": 63,
     "metadata": {},
     "output_type": "execute_result"
    },
    {
     "data": {
      "image/png": "[encoded data removed]",
      "text/plain": [
       "<Figure size 432x288 with 16 Axes>"
      ]
     },
     "metadata": {
      "needs_background": "light"
     },
     "output_type": "display_data"
    }
   ],
   "source": [
    "df.hist()"
   ]
  },
  {
   "cell_type": "code",
   "execution_count": 15,
   "metadata": {},
   "outputs": [],
   "source": [
    "df_sqrt = df\n",
    "to_sqrt = ['price', 'bedrooms', 'bathrooms', 'waterfront',\n",
    "          'sqft_living', 'sqft_basement', 'sqft_above', 'sqft_lot15',\n",
    "         'view', 'renovated']\n",
    "for i in to_sqrt:\n",
    "    df_sqrt[i] = np.sqrt(df_sqrt[i])"
   ]
  },
  {
   "cell_type": "code",
   "execution_count": 16,
   "metadata": {},
   "outputs": [
    {
     "data": {
      "text/html": [
       "<div>\n",
       "<style scoped>\n",
       "    .dataframe tbody tr th:only-of-type {\n",
       "        vertical-align: middle;\n",
       "    }\n",
       "\n",
       "    .dataframe tbody tr th {\n",
       "        vertical-align: top;\n",
       "    }\n",
       "\n",
       "    .dataframe thead th {\n",
       "        text-align: right;\n",
       "    }\n",
       "</style>\n",
       "<table border=\"1\" class=\"dataframe\">\n",
       "  <thead>\n",
       "    <tr style=\"text-align: right;\">\n",
       "      <th></th>\n",
       "      <th>price</th>\n",
       "      <th>bedrooms</th>\n",
       "      <th>bathrooms</th>\n",
       "      <th>sqft_living</th>\n",
       "      <th>sqft_lot</th>\n",
       "      <th>floors</th>\n",
       "      <th>waterfront</th>\n",
       "      <th>view</th>\n",
       "      <th>condition</th>\n",
       "      <th>grade</th>\n",
       "      <th>sqft_above</th>\n",
       "      <th>sqft_basement</th>\n",
       "      <th>yr_built</th>\n",
       "      <th>sqft_living15</th>\n",
       "      <th>sqft_lot15</th>\n",
       "      <th>renovated</th>\n",
       "    </tr>\n",
       "  </thead>\n",
       "  <tbody>\n",
       "    <tr>\n",
       "      <th>0</th>\n",
       "      <td>471.062629</td>\n",
       "      <td>1.732051</td>\n",
       "      <td>1.000000</td>\n",
       "      <td>34.351128</td>\n",
       "      <td>5650</td>\n",
       "      <td>1.0</td>\n",
       "      <td>0.0</td>\n",
       "      <td>0.0</td>\n",
       "      <td>3</td>\n",
       "      <td>7</td>\n",
       "      <td>34.351128</td>\n",
       "      <td>0.000000</td>\n",
       "      <td>1955</td>\n",
       "      <td>1340</td>\n",
       "      <td>75.166482</td>\n",
       "      <td>0.0</td>\n",
       "    </tr>\n",
       "    <tr>\n",
       "      <th>1</th>\n",
       "      <td>733.484833</td>\n",
       "      <td>1.732051</td>\n",
       "      <td>1.500000</td>\n",
       "      <td>50.695167</td>\n",
       "      <td>7242</td>\n",
       "      <td>2.0</td>\n",
       "      <td>0.0</td>\n",
       "      <td>0.0</td>\n",
       "      <td>3</td>\n",
       "      <td>7</td>\n",
       "      <td>46.583259</td>\n",
       "      <td>20.000000</td>\n",
       "      <td>1951</td>\n",
       "      <td>1690</td>\n",
       "      <td>87.401373</td>\n",
       "      <td>1.0</td>\n",
       "    </tr>\n",
       "    <tr>\n",
       "      <th>2</th>\n",
       "      <td>424.264069</td>\n",
       "      <td>1.414214</td>\n",
       "      <td>1.000000</td>\n",
       "      <td>27.748874</td>\n",
       "      <td>10000</td>\n",
       "      <td>1.0</td>\n",
       "      <td>0.0</td>\n",
       "      <td>0.0</td>\n",
       "      <td>3</td>\n",
       "      <td>6</td>\n",
       "      <td>27.748874</td>\n",
       "      <td>0.000000</td>\n",
       "      <td>1933</td>\n",
       "      <td>2720</td>\n",
       "      <td>89.788641</td>\n",
       "      <td>0.0</td>\n",
       "    </tr>\n",
       "    <tr>\n",
       "      <th>3</th>\n",
       "      <td>777.174369</td>\n",
       "      <td>2.000000</td>\n",
       "      <td>1.732051</td>\n",
       "      <td>44.271887</td>\n",
       "      <td>5000</td>\n",
       "      <td>1.0</td>\n",
       "      <td>0.0</td>\n",
       "      <td>0.0</td>\n",
       "      <td>5</td>\n",
       "      <td>7</td>\n",
       "      <td>32.403703</td>\n",
       "      <td>30.166206</td>\n",
       "      <td>1965</td>\n",
       "      <td>1360</td>\n",
       "      <td>70.710678</td>\n",
       "      <td>0.0</td>\n",
       "    </tr>\n",
       "    <tr>\n",
       "      <th>4</th>\n",
       "      <td>714.142843</td>\n",
       "      <td>1.732051</td>\n",
       "      <td>1.414214</td>\n",
       "      <td>40.987803</td>\n",
       "      <td>8080</td>\n",
       "      <td>1.0</td>\n",
       "      <td>0.0</td>\n",
       "      <td>0.0</td>\n",
       "      <td>3</td>\n",
       "      <td>8</td>\n",
       "      <td>40.987803</td>\n",
       "      <td>0.000000</td>\n",
       "      <td>1987</td>\n",
       "      <td>1800</td>\n",
       "      <td>86.619859</td>\n",
       "      <td>0.0</td>\n",
       "    </tr>\n",
       "  </tbody>\n",
       "</table>\n",
       "</div>"
      ],
      "text/plain": [
       "        price  bedrooms  bathrooms  sqft_living  sqft_lot  floors  waterfront  \\\n",
       "0  471.062629  1.732051   1.000000    34.351128      5650     1.0         0.0   \n",
       "1  733.484833  1.732051   1.500000    50.695167      7242     2.0         0.0   \n",
       "2  424.264069  1.414214   1.000000    27.748874     10000     1.0         0.0   \n",
       "3  777.174369  2.000000   1.732051    44.271887      5000     1.0         0.0   \n",
       "4  714.142843  1.732051   1.414214    40.987803      8080     1.0         0.0   \n",
       "\n",
       "   view  condition  grade  sqft_above  sqft_basement  yr_built  sqft_living15  \\\n",
       "0   0.0          3      7   34.351128       0.000000      1955           1340   \n",
       "1   0.0          3      7   46.583259      20.000000      1951           1690   \n",
       "2   0.0          3      6   27.748874       0.000000      1933           2720   \n",
       "3   0.0          5      7   32.403703      30.166206      1965           1360   \n",
       "4   0.0          3      8   40.987803       0.000000      1987           1800   \n",
       "\n",
       "   sqft_lot15  renovated  \n",
       "0   75.166482        0.0  \n",
       "1   87.401373        1.0  \n",
       "2   89.788641        0.0  \n",
       "3   70.710678        0.0  \n",
       "4   86.619859        0.0  "
      ]
     },
     "execution_count": 16,
     "metadata": {},
     "output_type": "execute_result"
    }
   ],
   "source": [
    "df.head()"
   ]
  },
  {
   "cell_type": "code",
   "execution_count": 17,
   "metadata": {},
   "outputs": [
    {
     "data": {
      "text/plain": [
       "0.6871400357706552"
      ]
     },
     "execution_count": 17,
     "metadata": {},
     "output_type": "execute_result"
    }
   ],
   "source": [
    "X = df_sqrt.drop('price', axis=1)\n",
    "y = df_sqrt.price\n",
    "X_train, X_test, y_train, y_test = train_test_split(X, y, test_size = 0.25, random_state=47)\n",
    "linreg = LinearRegression()\n",
    "linreg.fit(X_train,y_train)\n",
    "linreg.score(X_train, y_train)"
   ]
  },
  {
   "cell_type": "code",
   "execution_count": 64,
   "metadata": {},
   "outputs": [
    {
     "name": "stdout",
     "output_type": "stream",
     "text": [
      "Home Sales: price~bedrooms\n",
      "------------------------------\n",
      "['bedrooms', 0.0953497028373066, 127199.51268533265, 122464.44417420312, 0.0]\n",
      "Home Sales: price~bathrooms\n",
      "------------------------------\n",
      "['bathrooms', 0.27657672267607736, 8712.651752670936, 251241.7624951595, 0.0]\n",
      "Home Sales: price~sqft_living\n",
      "------------------------------\n",
      "['sqft_living', 0.49268789904035093, -43988.89219422744, 280.8630143588747, 0.0]\n",
      "Home Sales: price~sqft_lot\n",
      "------------------------------\n",
      "['sqft_lot', 0.008077735099594086, 528258.0465134738, 0.7972846608151651, 5.571622021765821e-40]\n",
      "Home Sales: price~floors\n",
      "------------------------------\n",
      "['floors', 0.06594805661983039, 279114.9959148354, 174809.05327963608, 0.0]\n",
      "Home Sales: price~waterfront\n",
      "------------------------------\n",
      "['waterfront', 0.06985780990281942, 532286.2219943125, 1184928.5040330947, 0.0]\n",
      "Home Sales: price~view\n",
      "------------------------------\n",
      "['view', 0.154839628812666, 496214.77284185647, 189045.80002669396, 0.0]\n",
      "Home Sales: price~condition\n",
      "------------------------------\n",
      "['condition', 0.0013000622131941197, 470868.04893980944, 20361.313449484616, 1.1565566735105982e-07]\n",
      "Home Sales: price~grade\n",
      "------------------------------\n",
      "['grade', 0.44615823299735013, -1061415.9916200484, 209157.77607213444, 0.0]\n",
      "Home Sales: price~sqft_above\n",
      "------------------------------\n",
      "['sqft_above', 0.36647034726583827, 59757.11100593556, 268.66840596728946, 0.0]\n",
      "Home Sales: price~sqft_basement\n",
      "------------------------------\n",
      "['sqft_basement', 0.10380768154837139, 461395.66732608073, 270.34492292998584, 0.0]\n",
      "Home Sales: price~yr_built\n",
      "------------------------------\n",
      "['yr_built', 0.002910962192005928, -789621.8059390201, 674.7430736386157, 2.1175812952275155e-15]\n",
      "Home Sales: price~sqft_living15\n",
      "------------------------------\n",
      "['sqft_living15', 0.34250726417201927, -83028.48736945572, 313.7615453447818, 0.0]\n",
      "Home Sales: price~sqft_lot15\n",
      "------------------------------\n",
      "['sqft_lot15', 0.00686328262138447, 526060.0546952514, 1.1158647475881207, 3.301592788019137e-34]\n",
      "Home Sales: price~renovated\n",
      "------------------------------\n",
      "['renovated', 0.013816377301946403, 532140.3198580539, 236761.5726150634, 2.6444319499918267e-67]\n"
     ]
    }
   ],
   "source": [
    "col_names = df.describe().columns.drop(['price'])\n",
    "results = [['ind_var', 'r_squared', 'intercept', 'slope', 'p-value' ]]\n",
    "for idx, val in enumerate(col_names):\n",
    "    print (\"Home Sales: price~\" + val)\n",
    "    print (\"------------------------------\")\n",
    "\n",
    "    f = 'price~' + val\n",
    "    model = smf.ols(formula=f, data=df).fit()\n",
    "    X_new = pd.DataFrame({val: [df[val].min(), df[val].max()]});\n",
    "    preds = model.predict(X_new)\n",
    "    results.append([val, model.rsquared, model.params[0], model.params[1], model.pvalues[1] ])\n",
    "    print(results[idx+1])"
   ]
  },
  {
   "cell_type": "code",
   "execution_count": null,
   "metadata": {},
   "outputs": [],
   "source": [
    "df2 = df_sqrt"
   ]
  },
  {
   "cell_type": "code",
   "execution_count": 65,
   "metadata": {},
   "outputs": [
    {
     "data": {
      "text/plain": [
       "0.6546452728295744"
      ]
     },
     "execution_count": 65,
     "metadata": {},
     "output_type": "execute_result"
    }
   ],
   "source": [
    "X = df.drop('price', axis=1)\n",
    "y = df.price\n",
    "X_train, X_test, y_train, y_test = train_test_split(X, y, test_size = 0.25, random_state=47)\n",
    "linreg = LinearRegression()\n",
    "linreg.fit(X_train,y_train)\n",
    "linreg.score(X_train, y_train)"
   ]
  },
  {
   "cell_type": "code",
   "execution_count": 66,
   "metadata": {},
   "outputs": [
    {
     "name": "stdout",
     "output_type": "stream",
     "text": [
      "Add  bedrooms                       with p-value 0.0\n",
      "Add  sqft_above                     with p-value 0.0\n",
      "Add  sqft_living                    with p-value 0.0\n",
      "Add  view                           with p-value 0.0\n",
      "Drop sqft_above                     with p-value 0.141698\n",
      "Add  grade                          with p-value 0.0\n",
      "Add  yr_built                       with p-value 0.0"
     ]
    },
    {
     "name": "stderr",
     "output_type": "stream",
     "text": [
      "C:\\Users\\sparr\\Anaconda3\\lib\\site-packages\\ipykernel_launcher.py:46: FutureWarning: 'argmax' is deprecated, use 'idxmax' instead. The behavior of 'argmax'\n",
      "will be corrected to return the positional maximum in the future.\n",
      "Use 'series.values.argmax' to get the position of the maximum now.\n"
     ]
    },
    {
     "name": "stdout",
     "output_type": "stream",
     "text": [
      "\n",
      "Add  waterfront                     with p-value 4.2404e-210\n",
      "Add  bathrooms                      with p-value 1.15008e-61\n",
      "Add  sqft_lot15                     with p-value 3.1101e-24\n",
      "Add  condition                      with p-value 1.4409e-11\n",
      "Add  floors                         with p-value 7.74691e-12\n",
      "Add  sqft_living15                  with p-value 3.14126e-11\n",
      "resulting features:\n",
      "['bedrooms', 'sqft_living', 'view', 'grade', 'yr_built', 'waterfront', 'bathrooms', 'sqft_lot15', 'condition', 'floors', 'sqft_living15']\n"
     ]
    }
   ],
   "source": [
    "result = stepwise_selection(X.drop('renovated', axis=1), y, verbose = True)\n",
    "print('resulting features:')\n",
    "print(result)"
   ]
  },
  {
   "cell_type": "code",
   "execution_count": 67,
   "metadata": {},
   "outputs": [
    {
     "name": "stdout",
     "output_type": "stream",
     "text": [
      "1 predictors - 0.0586 |||| 0.05794\n",
      "------- Index(['waterfront'], dtype='object')\n",
      "2 predictors - 0.48987 |||| 0.48952\n",
      "------- Index(['waterfront', 'grade'], dtype='object')\n",
      "3 predictors - 0.4972 |||| 0.49686\n",
      "------- Index(['waterfront', 'grade', 'renovated'], dtype='object')\n",
      "4 predictors - 0.52464 |||| 0.52431\n",
      "------- Index(['waterfront', 'view', 'grade', 'renovated'], dtype='object')\n",
      "5 predictors - 0.54057 |||| 0.54025\n",
      "------- Index(['waterfront', 'view', 'condition', 'grade', 'renovated'], dtype='object')\n",
      "6 predictors - 0.54983 |||| 0.54951\n",
      "------- Index(['bathrooms', 'waterfront', 'view', 'condition', 'grade', 'renovated'], dtype='object')\n",
      "7 predictors - 0.55154 |||| 0.55123\n",
      "------- Index(['bathrooms', 'floors', 'waterfront', 'view', 'condition', 'grade',\n",
      "       'renovated'],\n",
      "      dtype='object')\n",
      "8 predictors - 0.60926 |||| 0.60898\n",
      "------- Index(['bathrooms', 'floors', 'waterfront', 'view', 'condition', 'grade',\n",
      "       'yr_built', 'renovated'],\n",
      "      dtype='object')\n",
      "9 predictors - 0.60926 |||| 0.60899\n",
      "------- Index(['bedrooms', 'bathrooms', 'floors', 'waterfront', 'view', 'condition',\n",
      "       'grade', 'yr_built', 'renovated'],\n",
      "      dtype='object')\n",
      "10 predictors - 0.65144 |||| 0.6512\n",
      "------- Index(['bedrooms', 'bathrooms', 'sqft_living', 'floors', 'waterfront', 'view',\n",
      "       'condition', 'grade', 'yr_built', 'renovated'],\n",
      "      dtype='object')\n",
      "11 predictors - 0.65144 |||| 0.6512\n",
      "------- Index(['bedrooms', 'bathrooms', 'sqft_living', 'floors', 'waterfront', 'view',\n",
      "       'condition', 'grade', 'sqft_basement', 'yr_built', 'renovated'],\n",
      "      dtype='object')\n",
      "12 predictors - 0.65168 |||| 0.65144\n",
      "------- Index(['bedrooms', 'bathrooms', 'sqft_living', 'floors', 'waterfront', 'view',\n",
      "       'condition', 'grade', 'sqft_above', 'sqft_basement', 'yr_built',\n",
      "       'renovated'],\n",
      "      dtype='object')\n",
      "13 predictors - 0.6526 |||| 0.65236\n",
      "------- Index(['bedrooms', 'bathrooms', 'sqft_living', 'floors', 'waterfront', 'view',\n",
      "       'condition', 'grade', 'sqft_above', 'sqft_basement', 'yr_built',\n",
      "       'sqft_living15', 'renovated'],\n",
      "      dtype='object')\n",
      "14 predictors - 0.6544 |||| 0.65416\n",
      "------- Index(['bedrooms', 'bathrooms', 'sqft_living', 'floors', 'waterfront', 'view',\n",
      "       'condition', 'grade', 'sqft_above', 'sqft_basement', 'yr_built',\n",
      "       'sqft_living15', 'sqft_lot15', 'renovated'],\n",
      "      dtype='object')\n",
      "15 predictors - 0.6544 |||| 0.65416\n",
      "------- Index(['bedrooms', 'bathrooms', 'sqft_living', 'sqft_lot', 'floors',\n",
      "       'waterfront', 'view', 'condition', 'grade', 'sqft_above',\n",
      "       'sqft_basement', 'yr_built', 'sqft_living15', 'sqft_lot15',\n",
      "       'renovated'],\n",
      "      dtype='object')\n"
     ]
    }
   ],
   "source": [
    "i = 1\n",
    "while i <= (int(len(df.drop('price', axis=1).columns))):\n",
    "    linreg = LinearRegression()\n",
    "    selector = RFE(linreg, n_features_to_select = i)\n",
    "    selector = selector.fit(X, y) \n",
    "    selected_columns = X.columns[selector.support_ ]\n",
    "    linreg.fit(X[selected_columns],y)\n",
    "    r_2 = round(linreg.score(X_train[X_train.columns[selector.support_]], y_train), 5)\n",
    "    r_2a = round(1 - (1-linreg.score(X_train[X_train.columns[selector.support_]], y_train))*(len(y)-1)/(len(y)-X.shape[1]-1), 5)\n",
    "    print(str(i) + \" predictors - \" + str(r_2) + \" |||| \" + str(r_2a))\n",
    "    print(\"------- \" + str(X_train.columns[selector.support_]))\n",
    "    i += 1"
   ]
  },
  {
   "cell_type": "code",
   "execution_count": 68,
   "metadata": {},
   "outputs": [
    {
     "data": {
      "text/plain": [
       "array([[<matplotlib.axes._subplots.AxesSubplot object at 0x000001CCF1C9CA58>,\n",
       "        <matplotlib.axes._subplots.AxesSubplot object at 0x000001CCF1CAD470>,\n",
       "        <matplotlib.axes._subplots.AxesSubplot object at 0x000001CCF1CC5780>,\n",
       "        <matplotlib.axes._subplots.AxesSubplot object at 0x000001CCEA226A90>],\n",
       "       [<matplotlib.axes._subplots.AxesSubplot object at 0x000001CCEA250AC8>,\n",
       "        <matplotlib.axes._subplots.AxesSubplot object at 0x000001CCEA250B00>,\n",
       "        <matplotlib.axes._subplots.AxesSubplot object at 0x000001CCEBE56E10>,\n",
       "        <matplotlib.axes._subplots.AxesSubplot object at 0x000001CCEA2A9668>],\n",
       "       [<matplotlib.axes._subplots.AxesSubplot object at 0x000001CCEA2CECF8>,\n",
       "        <matplotlib.axes._subplots.AxesSubplot object at 0x000001CCEA2FB3C8>,\n",
       "        <matplotlib.axes._subplots.AxesSubplot object at 0x000001CCEA322A58>,\n",
       "        <matplotlib.axes._subplots.AxesSubplot object at 0x000001CCEA355128>],\n",
       "       [<matplotlib.axes._subplots.AxesSubplot object at 0x000001CCEBC8E7B8>,\n",
       "        <matplotlib.axes._subplots.AxesSubplot object at 0x000001CCEBCB5E48>,\n",
       "        <matplotlib.axes._subplots.AxesSubplot object at 0x000001CCEBCE6518>,\n",
       "        <matplotlib.axes._subplots.AxesSubplot object at 0x000001CCEBD0EB70>]],\n",
       "      dtype=object)"
      ]
     },
     "execution_count": 68,
     "metadata": {},
     "output_type": "execute_result"
    },
    {
     "data": {
      "image/png": "[encoded data removed]",
      "text/plain": [
       "<Figure size 432x288 with 16 Axes>"
      ]
     },
     "metadata": {
      "needs_background": "light"
     },
     "output_type": "display_data"
    }
   ],
   "source": [
    "df.hist()"
   ]
  },
  {
   "cell_type": "code",
   "execution_count": 70,
   "metadata": {},
   "outputs": [
    {
     "data": {
      "text/plain": [
       "3     9824\n",
       "4     6882\n",
       "2     2760\n",
       "5     1601\n",
       "6      272\n",
       "1      196\n",
       "7       38\n",
       "8       13\n",
       "9        6\n",
       "10       3\n",
       "11       1\n",
       "33       1\n",
       "Name: bedrooms, dtype: int64"
      ]
     },
     "execution_count": 70,
     "metadata": {},
     "output_type": "execute_result"
    }
   ],
   "source": [
    "df.bedrooms.value_counts()"
   ]
  },
  {
   "cell_type": "code",
   "execution_count": 73,
   "metadata": {},
   "outputs": [],
   "source": [
    "df.drop(df.index[df['bedrooms'] == 33], inplace=True)"
   ]
  },
  {
   "cell_type": "code",
   "execution_count": 74,
   "metadata": {},
   "outputs": [
    {
     "data": {
      "text/plain": [
       "3     9824\n",
       "4     6882\n",
       "2     2760\n",
       "5     1601\n",
       "6      272\n",
       "1      196\n",
       "7       38\n",
       "8       13\n",
       "9        6\n",
       "10       3\n",
       "11       1\n",
       "Name: bedrooms, dtype: int64"
      ]
     },
     "execution_count": 74,
     "metadata": {},
     "output_type": "execute_result"
    }
   ],
   "source": [
    "df.bedrooms.value_counts()"
   ]
  },
  {
   "cell_type": "code",
   "execution_count": 75,
   "metadata": {},
   "outputs": [
    {
     "data": {
      "text/plain": [
       "<matplotlib.axes._subplots.AxesSubplot at 0x1ccee874860>"
      ]
     },
     "execution_count": 75,
     "metadata": {},
     "output_type": "execute_result"
    },
    {
     "data": {
      "image/png": "[encoded data removed]",
      "text/plain": [
       "<Figure size 432x288 with 1 Axes>"
      ]
     },
     "metadata": {
      "needs_background": "light"
     },
     "output_type": "display_data"
    }
   ],
   "source": [
    "df.bedrooms.hist()"
   ]
  },
  {
   "cell_type": "code",
   "execution_count": 76,
   "metadata": {},
   "outputs": [],
   "source": [
    "df.drop(df.index[df['bedrooms'] >= 8], inplace=True)"
   ]
  },
  {
   "cell_type": "code",
   "execution_count": 77,
   "metadata": {},
   "outputs": [
    {
     "data": {
      "text/plain": [
       "<matplotlib.axes._subplots.AxesSubplot at 0x1ccee90d278>"
      ]
     },
     "execution_count": 77,
     "metadata": {},
     "output_type": "execute_result"
    },
    {
     "data": {
      "image/png": "[encoded data removed]",
      "text/plain": [
       "<Figure size 432x288 with 1 Axes>"
      ]
     },
     "metadata": {
      "needs_background": "light"
     },
     "output_type": "display_data"
    }
   ],
   "source": [
    "df.bedrooms.hist()"
   ]
  },
  {
   "cell_type": "code",
   "execution_count": 78,
   "metadata": {},
   "outputs": [
    {
     "data": {
      "text/plain": [
       "<matplotlib.axes._subplots.AxesSubplot at 0x1ccf1ffe6a0>"
      ]
     },
     "execution_count": 78,
     "metadata": {},
     "output_type": "execute_result"
    },
    {
     "data": {
      "image/png": "[encoded data removed]",
      "text/plain": [
       "<Figure size 432x288 with 1 Axes>"
      ]
     },
     "metadata": {
      "needs_background": "light"
     },
     "output_type": "display_data"
    }
   ],
   "source": [
    "df.bathrooms.hist()"
   ]
  },
  {
   "cell_type": "code",
   "execution_count": 82,
   "metadata": {},
   "outputs": [
    {
     "data": {
      "text/plain": [
       "<matplotlib.axes._subplots.AxesSubplot at 0x1ccf4cf5470>"
      ]
     },
     "execution_count": 82,
     "metadata": {},
     "output_type": "execute_result"
    },
    {
     "data": {
      "image/png": "[encoded data removed]",
      "text/plain": [
       "<Figure size 432x288 with 1 Axes>"
      ]
     },
     "metadata": {
      "needs_background": "light"
     },
     "output_type": "display_data"
    }
   ],
   "source": [
    "(np.log(df.bathrooms)).hist()"
   ]
  },
  {
   "cell_type": "code",
   "execution_count": 83,
   "metadata": {},
   "outputs": [],
   "source": [
    "df.bathrooms = np.log(df.bathrooms)"
   ]
  },
  {
   "cell_type": "code",
   "execution_count": 85,
   "metadata": {},
   "outputs": [
    {
     "data": {
      "text/plain": [
       "<matplotlib.axes._subplots.AxesSubplot at 0x1ccf4d89c88>"
      ]
     },
     "execution_count": 85,
     "metadata": {},
     "output_type": "execute_result"
    },
    {
     "data": {
      "image/png": "[encoded data removed]",
      "text/plain": [
       "<Figure size 432x288 with 1 Axes>"
      ]
     },
     "metadata": {
      "needs_background": "light"
     },
     "output_type": "display_data"
    }
   ],
   "source": [
    "df.condition.hist()"
   ]
  },
  {
   "cell_type": "code",
   "execution_count": 91,
   "metadata": {},
   "outputs": [
    {
     "data": {
      "text/plain": [
       "<matplotlib.axes._subplots.AxesSubplot at 0x1ccf4efa828>"
      ]
     },
     "execution_count": 91,
     "metadata": {},
     "output_type": "execute_result"
    },
    {
     "data": {
      "image/png": "[encoded data removed]",
      "text/plain": [
       "<Figure size 432x288 with 1 Axes>"
      ]
     },
     "metadata": {
      "needs_background": "light"
     },
     "output_type": "display_data"
    }
   ],
   "source": [
    "df.floors.hist()"
   ]
  },
  {
   "cell_type": "code",
   "execution_count": 94,
   "metadata": {},
   "outputs": [
    {
     "data": {
      "text/plain": [
       "<matplotlib.axes._subplots.AxesSubplot at 0x1ccf5028be0>"
      ]
     },
     "execution_count": 94,
     "metadata": {},
     "output_type": "execute_result"
    },
    {
     "data": {
      "image/png": "[encoded data removed]",
      "text/plain": [
       "<Figure size 432x288 with 1 Axes>"
      ]
     },
     "metadata": {
      "needs_background": "light"
     },
     "output_type": "display_data"
    }
   ],
   "source": [
    "df.sqft_living.hist()"
   ]
  },
  {
   "cell_type": "code",
   "execution_count": 104,
   "metadata": {},
   "outputs": [
    {
     "name": "stdout",
     "output_type": "stream",
     "text": [
      "9\n",
      "67\n",
      "773\n"
     ]
    }
   ],
   "source": [
    "print(len(df[df.sqft_living > 8000]))\n",
    "print(len(df[df.sqft_living > 6000]))\n",
    "print(len(df[df.sqft_living > 4000]))"
   ]
  },
  {
   "cell_type": "code",
   "execution_count": 105,
   "metadata": {},
   "outputs": [],
   "source": [
    "df.drop(df.index[df['sqft_living'] > 4000], inplace=True)"
   ]
  },
  {
   "cell_type": "code",
   "execution_count": 106,
   "metadata": {
    "scrolled": true
   },
   "outputs": [
    {
     "data": {
      "text/plain": [
       "<matplotlib.axes._subplots.AxesSubplot at 0x1ccf1d221d0>"
      ]
     },
     "execution_count": 106,
     "metadata": {},
     "output_type": "execute_result"
    },
    {
     "data": {
      "image/png": "[encoded data removed]",
      "text/plain": [
       "<Figure size 432x288 with 1 Axes>"
      ]
     },
     "metadata": {
      "needs_background": "light"
     },
     "output_type": "display_data"
    }
   ],
   "source": [
    "df.sqft_living.hist()"
   ]
  },
  {
   "cell_type": "code",
   "execution_count": 108,
   "metadata": {},
   "outputs": [
    {
     "data": {
      "text/plain": [
       "<matplotlib.axes._subplots.AxesSubplot at 0x1ccf5382048>"
      ]
     },
     "execution_count": 108,
     "metadata": {},
     "output_type": "execute_result"
    },
    {
     "data": {
      "image/png": "[encoded data removed]",
      "text/plain": [
       "<Figure size 432x288 with 1 Axes>"
      ]
     },
     "metadata": {
      "needs_background": "light"
     },
     "output_type": "display_data"
    }
   ],
   "source": [
    "(np.sqrt(df.sqft_living)).hist()"
   ]
  },
  {
   "cell_type": "code",
   "execution_count": 109,
   "metadata": {},
   "outputs": [],
   "source": [
    "df.sqft_living = np.sqrt(df.sqft_living)"
   ]
  },
  {
   "cell_type": "code",
   "execution_count": 110,
   "metadata": {},
   "outputs": [
    {
     "data": {
      "text/plain": [
       "<matplotlib.axes._subplots.AxesSubplot at 0x1ccf53f9860>"
      ]
     },
     "execution_count": 110,
     "metadata": {},
     "output_type": "execute_result"
    },
    {
     "data": {
      "image/png": "[encoded data removed]",
      "text/plain": [
       "<Figure size 432x288 with 1 Axes>"
      ]
     },
     "metadata": {
      "needs_background": "light"
     },
     "output_type": "display_data"
    }
   ],
   "source": [
    "df.sqft_above.hist()"
   ]
  },
  {
   "cell_type": "code",
   "execution_count": 111,
   "metadata": {},
   "outputs": [],
   "source": [
    "df.sqft_above = np.sqrt(df.sqft_above)"
   ]
  },
  {
   "cell_type": "code",
   "execution_count": 112,
   "metadata": {},
   "outputs": [
    {
     "data": {
      "text/plain": [
       "<matplotlib.axes._subplots.AxesSubplot at 0x1ccf51f8c88>"
      ]
     },
     "execution_count": 112,
     "metadata": {},
     "output_type": "execute_result"
    },
    {
     "data": {
      "image/png": "[encoded data removed]",
      "text/plain": [
       "<Figure size 432x288 with 1 Axes>"
      ]
     },
     "metadata": {
      "needs_background": "light"
     },
     "output_type": "display_data"
    }
   ],
   "source": [
    "df.sqft_above.hist()"
   ]
  },
  {
   "cell_type": "code",
   "execution_count": 113,
   "metadata": {},
   "outputs": [
    {
     "data": {
      "text/plain": [
       "<matplotlib.axes._subplots.AxesSubplot at 0x1ccf53e7da0>"
      ]
     },
     "execution_count": 113,
     "metadata": {},
     "output_type": "execute_result"
    },
    {
     "data": {
      "image/png": "[encoded data removed]",
      "text/plain": [
       "<Figure size 432x288 with 1 Axes>"
      ]
     },
     "metadata": {
      "needs_background": "light"
     },
     "output_type": "display_data"
    }
   ],
   "source": [
    "df.sqft_basement.hist()"
   ]
  },
  {
   "cell_type": "code",
   "execution_count": 118,
   "metadata": {},
   "outputs": [],
   "source": [
    "df['basement'] = df.apply(lambda row: 0 if row.sqft_basement == 0 else 1, axis=1)"
   ]
  },
  {
   "cell_type": "code",
   "execution_count": 120,
   "metadata": {},
   "outputs": [],
   "source": [
    "df.drop('sqft_basement', axis=1, inplace=True)"
   ]
  },
  {
   "cell_type": "code",
   "execution_count": 92,
   "metadata": {},
   "outputs": [
    {
     "name": "stdout",
     "output_type": "stream",
     "text": [
      "1 predictors - 0.06935 |||| 0.0687\n",
      "------- Index(['waterfront'], dtype='object')\n",
      "2 predictors - 0.48893 |||| 0.48858\n",
      "------- Index(['waterfront', 'grade'], dtype='object')\n",
      "3 predictors - 0.49862 |||| 0.49827\n",
      "------- Index(['waterfront', 'grade', 'renovated'], dtype='object')\n",
      "4 predictors - 0.52442 |||| 0.52409\n",
      "------- Index(['waterfront', 'view', 'grade', 'renovated'], dtype='object')\n",
      "5 predictors - 0.53835 |||| 0.53803\n",
      "------- Index(['waterfront', 'view', 'condition', 'grade', 'renovated'], dtype='object')\n",
      "6 predictors - 0.54337 |||| 0.54305\n",
      "------- Index(['bedrooms', 'waterfront', 'view', 'condition', 'grade', 'renovated'], dtype='object')\n",
      "7 predictors - 0.54347 |||| 0.54316\n",
      "------- Index(['bedrooms', 'bathrooms', 'waterfront', 'view', 'condition', 'grade',\n",
      "       'renovated'],\n",
      "      dtype='object')\n",
      "8 predictors - 0.54373 |||| 0.54342\n",
      "------- Index(['bedrooms', 'bathrooms', 'floors', 'waterfront', 'view', 'condition',\n",
      "       'grade', 'renovated'],\n",
      "      dtype='object')\n",
      "9 predictors - 0.59148 |||| 0.5912\n",
      "------- Index(['bedrooms', 'bathrooms', 'floors', 'waterfront', 'view', 'condition',\n",
      "       'grade', 'yr_built', 'renovated'],\n",
      "      dtype='object')\n",
      "10 predictors - 0.6503 |||| 0.65006\n",
      "------- Index(['bedrooms', 'bathrooms', 'sqft_living', 'floors', 'waterfront', 'view',\n",
      "       'condition', 'grade', 'yr_built', 'renovated'],\n",
      "      dtype='object')\n",
      "11 predictors - 0.65034 |||| 0.65009\n",
      "------- Index(['bedrooms', 'bathrooms', 'sqft_living', 'floors', 'waterfront', 'view',\n",
      "       'condition', 'grade', 'sqft_basement', 'yr_built', 'renovated'],\n",
      "      dtype='object')\n",
      "12 predictors - 0.65054 |||| 0.6503\n",
      "------- Index(['bedrooms', 'bathrooms', 'sqft_living', 'floors', 'waterfront', 'view',\n",
      "       'condition', 'grade', 'sqft_above', 'sqft_basement', 'yr_built',\n",
      "       'renovated'],\n",
      "      dtype='object')\n",
      "13 predictors - 0.65084 |||| 0.6506\n",
      "------- Index(['bedrooms', 'bathrooms', 'sqft_living', 'floors', 'waterfront', 'view',\n",
      "       'condition', 'grade', 'sqft_above', 'sqft_basement', 'yr_built',\n",
      "       'sqft_living15', 'renovated'],\n",
      "      dtype='object')\n",
      "14 predictors - 0.65285 |||| 0.65261\n",
      "------- Index(['bedrooms', 'bathrooms', 'sqft_living', 'floors', 'waterfront', 'view',\n",
      "       'condition', 'grade', 'sqft_above', 'sqft_basement', 'yr_built',\n",
      "       'sqft_living15', 'sqft_lot15', 'renovated'],\n",
      "      dtype='object')\n",
      "15 predictors - 0.65285 |||| 0.65261\n",
      "------- Index(['bedrooms', 'bathrooms', 'sqft_living', 'sqft_lot', 'floors',\n",
      "       'waterfront', 'view', 'condition', 'grade', 'sqft_above',\n",
      "       'sqft_basement', 'yr_built', 'sqft_living15', 'sqft_lot15',\n",
      "       'renovated'],\n",
      "      dtype='object')\n"
     ]
    }
   ],
   "source": [
    "X = df.drop('price', axis=1)\n",
    "y = df.price\n",
    "X_train, X_test, y_train, y_test = train_test_split(X, y, test_size = 0.25, random_state=47)\n",
    "linreg = LinearRegression()\n",
    "linreg.fit(X_train,y_train)\n",
    "linreg.score(X_train, y_train)\n",
    "i = 1\n",
    "while i <= (int(len(df.drop('price', axis=1).columns))):\n",
    "    linreg = LinearRegression()\n",
    "    selector = RFE(linreg, n_features_to_select = i)\n",
    "    selector = selector.fit(X, y) \n",
    "    selected_columns = X.columns[selector.support_ ]\n",
    "    linreg.fit(X[selected_columns],y)\n",
    "    r_2 = round(linreg.score(X_train[X_train.columns[selector.support_]], y_train), 5)\n",
    "    r_2a = round(1 - (1-linreg.score(X_train[X_train.columns[selector.support_]], y_train))*(len(y)-1)/(len(y)-X.shape[1]-1), 5)\n",
    "    print(str(i) + \" predictors - \" + str(r_2) + \" |||| \" + str(r_2a))\n",
    "    print(\"------- \" + str(X_train.columns[selector.support_]))\n",
    "    i += 1"
   ]
  },
  {
   "cell_type": "code",
   "execution_count": 121,
   "metadata": {},
   "outputs": [
    {
     "name": "stdout",
     "output_type": "stream",
     "text": [
      "1 predictors - 0.03995 |||| 0.03926\n",
      "------- Index(['waterfront'], dtype='object')\n",
      "2 predictors - 0.42444 |||| 0.42403\n",
      "------- Index(['waterfront', 'grade'], dtype='object')\n",
      "3 predictors - 0.43451 |||| 0.43411\n",
      "------- Index(['waterfront', 'grade', 'renovated'], dtype='object')\n",
      "4 predictors - 0.46622 |||| 0.46584\n",
      "------- Index(['waterfront', 'view', 'grade', 'renovated'], dtype='object')\n",
      "5 predictors - 0.48035 |||| 0.47997\n",
      "------- Index(['waterfront', 'view', 'grade', 'renovated', 'basement'], dtype='object')\n",
      "6 predictors - 0.49769 |||| 0.49732\n",
      "------- Index(['waterfront', 'view', 'condition', 'grade', 'renovated', 'basement'], dtype='object')\n",
      "7 predictors - 0.49928 |||| 0.49892\n",
      "------- Index(['floors', 'waterfront', 'view', 'condition', 'grade', 'renovated',\n",
      "       'basement'],\n",
      "      dtype='object')\n",
      "8 predictors - 0.50221 |||| 0.50185\n",
      "------- Index(['bedrooms', 'floors', 'waterfront', 'view', 'condition', 'grade',\n",
      "       'renovated', 'basement'],\n",
      "      dtype='object')\n",
      "9 predictors - 0.50248 |||| 0.50212\n",
      "------- Index(['bedrooms', 'bathrooms', 'floors', 'waterfront', 'view', 'condition',\n",
      "       'grade', 'renovated', 'basement'],\n",
      "      dtype='object')\n",
      "10 predictors - 0.53244 |||| 0.5321\n",
      "------- Index(['bedrooms', 'bathrooms', 'sqft_living', 'floors', 'waterfront', 'view',\n",
      "       'condition', 'grade', 'renovated', 'basement'],\n",
      "      dtype='object')\n",
      "11 predictors - 0.58606 |||| 0.58576\n",
      "------- Index(['bedrooms', 'bathrooms', 'sqft_living', 'floors', 'waterfront', 'view',\n",
      "       'condition', 'grade', 'yr_built', 'renovated', 'basement'],\n",
      "      dtype='object')\n",
      "12 predictors - 0.58642 |||| 0.58612\n",
      "------- Index(['bedrooms', 'bathrooms', 'sqft_living', 'floors', 'waterfront', 'view',\n",
      "       'condition', 'grade', 'sqft_above', 'yr_built', 'renovated',\n",
      "       'basement'],\n",
      "      dtype='object')\n",
      "13 predictors - 0.59608 |||| 0.59579\n",
      "------- Index(['bedrooms', 'bathrooms', 'sqft_living', 'floors', 'waterfront', 'view',\n",
      "       'condition', 'grade', 'sqft_above', 'yr_built', 'sqft_living15',\n",
      "       'renovated', 'basement'],\n",
      "      dtype='object')\n",
      "14 predictors - 0.59662 |||| 0.59633\n",
      "------- Index(['bedrooms', 'bathrooms', 'sqft_living', 'floors', 'waterfront', 'view',\n",
      "       'condition', 'grade', 'sqft_above', 'yr_built', 'sqft_living15',\n",
      "       'sqft_lot15', 'renovated', 'basement'],\n",
      "      dtype='object')\n",
      "15 predictors - 0.59674 |||| 0.59644\n",
      "------- Index(['bedrooms', 'bathrooms', 'sqft_living', 'sqft_lot', 'floors',\n",
      "       'waterfront', 'view', 'condition', 'grade', 'sqft_above', 'yr_built',\n",
      "       'sqft_living15', 'sqft_lot15', 'renovated', 'basement'],\n",
      "      dtype='object')\n"
     ]
    }
   ],
   "source": [
    "X = df.drop('price', axis=1)\n",
    "y = df.price\n",
    "X_train, X_test, y_train, y_test = train_test_split(X, y, test_size = 0.25, random_state=47)\n",
    "linreg = LinearRegression()\n",
    "linreg.fit(X_train,y_train)\n",
    "linreg.score(X_train, y_train)\n",
    "i = 1\n",
    "while i <= (int(len(df.drop('price', axis=1).columns))):\n",
    "    linreg = LinearRegression()\n",
    "    selector = RFE(linreg, n_features_to_select = i)\n",
    "    selector = selector.fit(X, y) \n",
    "    selected_columns = X.columns[selector.support_ ]\n",
    "    linreg.fit(X[selected_columns],y)\n",
    "    r_2 = round(linreg.score(X_train[X_train.columns[selector.support_]], y_train), 5)\n",
    "    r_2a = round(1 - (1-linreg.score(X_train[X_train.columns[selector.support_]], y_train))*(len(y)-1)/(len(y)-X.shape[1]-1), 5)\n",
    "    print(str(i) + \" predictors - \" + str(r_2) + \" |||| \" + str(r_2a))\n",
    "    print(\"------- \" + str(X_train.columns[selector.support_]))\n",
    "    i += 1"
   ]
  },
  {
   "cell_type": "code",
   "execution_count": 122,
   "metadata": {
    "scrolled": true
   },
   "outputs": [
    {
     "name": "stdout",
     "output_type": "stream",
     "text": [
      "1 predictors - 0.0173 |||| 0.01659\n",
      "------- Index(['waterfront'], dtype='object')\n",
      "2 predictors - 0.43359 |||| 0.43318\n",
      "------- Index(['waterfront', 'grade'], dtype='object')\n",
      "3 predictors - 0.44128 |||| 0.44087\n",
      "------- Index(['waterfront', 'grade', 'renovated'], dtype='object')\n",
      "4 predictors - 0.47083 |||| 0.47045\n",
      "------- Index(['waterfront', 'grade', 'renovated', 'basement'], dtype='object')\n",
      "5 predictors - 0.48865 |||| 0.48829\n",
      "------- Index(['waterfront', 'condition', 'grade', 'renovated', 'basement'], dtype='object')\n",
      "6 predictors - 0.50123 |||| 0.50087\n",
      "------- Index(['waterfront', 'view', 'condition', 'grade', 'renovated', 'basement'], dtype='object')\n",
      "7 predictors - 0.50707 |||| 0.50671\n",
      "------- Index(['floors', 'waterfront', 'view', 'condition', 'grade', 'renovated',\n",
      "       'basement'],\n",
      "      dtype='object')\n",
      "8 predictors - 0.51176 |||| 0.5114\n",
      "------- Index(['bedrooms', 'floors', 'waterfront', 'view', 'condition', 'grade',\n",
      "       'renovated', 'basement'],\n",
      "      dtype='object')\n",
      "9 predictors - 0.5119 |||| 0.51155\n",
      "------- Index(['bedrooms', 'bathrooms', 'floors', 'waterfront', 'view', 'condition',\n",
      "       'grade', 'renovated', 'basement'],\n",
      "      dtype='object')\n",
      "10 predictors - 0.5439 |||| 0.54357\n",
      "------- Index(['bedrooms', 'bathrooms', 'sqft_living', 'floors', 'waterfront', 'view',\n",
      "       'condition', 'grade', 'renovated', 'basement'],\n",
      "      dtype='object')\n",
      "11 predictors - 0.59613 |||| 0.59584\n",
      "------- Index(['bedrooms', 'bathrooms', 'sqft_living', 'floors', 'waterfront', 'view',\n",
      "       'condition', 'grade', 'yr_built', 'renovated', 'basement'],\n",
      "      dtype='object')\n",
      "12 predictors - 0.60517 |||| 0.60489\n",
      "------- Index(['bedrooms', 'bathrooms', 'sqft_living', 'floors', 'waterfront', 'view',\n",
      "       'condition', 'grade', 'yr_built', 'sqft_living15', 'renovated',\n",
      "       'basement'],\n",
      "      dtype='object')\n",
      "13 predictors - 0.60517 |||| 0.60489\n",
      "------- Index(['bedrooms', 'bathrooms', 'sqft_living', 'floors', 'waterfront', 'view',\n",
      "       'condition', 'grade', 'sqft_above', 'yr_built', 'sqft_living15',\n",
      "       'renovated', 'basement'],\n",
      "      dtype='object')\n",
      "14 predictors - 0.60525 |||| 0.60496\n",
      "------- Index(['bedrooms', 'bathrooms', 'sqft_living', 'floors', 'waterfront', 'view',\n",
      "       'condition', 'grade', 'sqft_above', 'yr_built', 'sqft_living15',\n",
      "       'sqft_lot15', 'renovated', 'basement'],\n",
      "      dtype='object')\n",
      "15 predictors - 0.60541 |||| 0.60513\n",
      "------- Index(['bedrooms', 'bathrooms', 'sqft_living', 'sqft_lot', 'floors',\n",
      "       'waterfront', 'view', 'condition', 'grade', 'sqft_above', 'yr_built',\n",
      "       'sqft_living15', 'sqft_lot15', 'renovated', 'basement'],\n",
      "      dtype='object')\n"
     ]
    }
   ],
   "source": [
    "X = df.drop('price', axis=1)\n",
    "y = np.log(df.price)\n",
    "X_train, X_test, y_train, y_test = train_test_split(X, y, test_size = 0.25, random_state=47)\n",
    "linreg = LinearRegression()\n",
    "linreg.fit(X_train,y_train)\n",
    "linreg.score(X_train, y_train)\n",
    "i = 1\n",
    "while i <= (int(len(df.drop('price', axis=1).columns))):\n",
    "    linreg = LinearRegression()\n",
    "    selector = RFE(linreg, n_features_to_select = i)\n",
    "    selector = selector.fit(X, y) \n",
    "    selected_columns = X.columns[selector.support_ ]\n",
    "    linreg.fit(X[selected_columns],y)\n",
    "    r_2 = round(linreg.score(X_train[X_train.columns[selector.support_]], y_train), 5)\n",
    "    r_2a = round(1 - (1-linreg.score(X_train[X_train.columns[selector.support_]], y_train))*(len(y)-1)/(len(y)-X.shape[1]-1), 5)\n",
    "    print(str(i) + \" predictors - \" + str(r_2) + \" |||| \" + str(r_2a))\n",
    "    print(\"------- \" + str(X_train.columns[selector.support_]))\n",
    "    i += 1"
   ]
  },
  {
   "cell_type": "code",
   "execution_count": 123,
   "metadata": {},
   "outputs": [
    {
     "data": {
      "text/plain": [
       "Index(['price', 'bedrooms', 'bathrooms', 'sqft_living', 'sqft_lot', 'floors',\n",
       "       'waterfront', 'view', 'condition', 'grade', 'sqft_above', 'yr_built',\n",
       "       'sqft_living15', 'sqft_lot15', 'renovated', 'basement'],\n",
       "      dtype='object')"
      ]
     },
     "execution_count": 123,
     "metadata": {},
     "output_type": "execute_result"
    }
   ],
   "source": [
    "df.columns"
   ]
  },
  {
   "cell_type": "code",
   "execution_count": 144,
   "metadata": {
    "scrolled": true
   },
   "outputs": [
    {
     "name": "stdout",
     "output_type": "stream",
     "text": [
      "1 predictors - 0.01468 |||| 0.01397\n",
      "------- Index(['waterfront'], dtype='object')\n",
      "2 predictors - 0.43532 |||| 0.43491\n",
      "------- Index(['waterfront', 'grade'], dtype='object')\n",
      "3 predictors - 0.44353 |||| 0.44312\n",
      "------- Index(['waterfront', 'grade', 'renovated'], dtype='object')\n",
      "4 predictors - 0.47233 |||| 0.47195\n",
      "------- Index(['waterfront', 'grade', 'renovated', 'basement'], dtype='object')\n",
      "5 predictors - 0.48894 |||| 0.48857\n",
      "------- Index(['waterfront', 'condition', 'grade', 'renovated', 'basement'], dtype='object')\n",
      "6 predictors - 0.50145 |||| 0.50109\n",
      "------- Index(['waterfront', 'view', 'condition', 'grade', 'renovated', 'basement'], dtype='object')\n",
      "7 predictors - 0.5076 |||| 0.50724\n",
      "------- Index(['floors', 'waterfront', 'view', 'condition', 'grade', 'renovated',\n",
      "       'basement'],\n",
      "      dtype='object')\n",
      "8 predictors - 0.51249 |||| 0.51214\n",
      "------- Index(['bedrooms', 'floors', 'waterfront', 'view', 'condition', 'grade',\n",
      "       'renovated', 'basement'],\n",
      "      dtype='object')\n",
      "9 predictors - 0.51262 |||| 0.51226\n",
      "------- Index(['bedrooms', 'bathrooms', 'floors', 'waterfront', 'view', 'condition',\n",
      "       'grade', 'renovated', 'basement'],\n",
      "      dtype='object')\n",
      "10 predictors - 0.54318 |||| 0.54285\n",
      "------- Index(['bedrooms', 'bathrooms', 'sqft_living', 'floors', 'waterfront', 'view',\n",
      "       'condition', 'grade', 'renovated', 'basement'],\n",
      "      dtype='object')\n",
      "11 predictors - 0.5973 |||| 0.597\n",
      "------- Index(['bedrooms', 'bathrooms', 'sqft_living', 'floors', 'waterfront', 'view',\n",
      "       'condition', 'grade', 'yr_built', 'renovated', 'basement'],\n",
      "      dtype='object')\n",
      "12 predictors - 0.60597 |||| 0.60569\n",
      "------- Index(['bedrooms', 'bathrooms', 'sqft_living', 'floors', 'waterfront', 'view',\n",
      "       'condition', 'grade', 'yr_built', 'sqft_living15', 'renovated',\n",
      "       'basement'],\n",
      "      dtype='object')\n",
      "13 predictors - 0.60597 |||| 0.60569\n",
      "------- Index(['bedrooms', 'bathrooms', 'sqft_living', 'floors', 'waterfront', 'view',\n",
      "       'condition', 'grade', 'sqft_above', 'yr_built', 'sqft_living15',\n",
      "       'renovated', 'basement'],\n",
      "      dtype='object')\n",
      "14 predictors - 0.60608 |||| 0.6058\n",
      "------- Index(['bedrooms', 'bathrooms', 'sqft_living', 'floors', 'waterfront', 'view',\n",
      "       'condition', 'grade', 'sqft_above', 'yr_built', 'sqft_living15',\n",
      "       'sqft_lot15', 'renovated', 'basement'],\n",
      "      dtype='object')\n",
      "15 predictors - 0.60622 |||| 0.60594\n",
      "------- Index(['bedrooms', 'bathrooms', 'sqft_living', 'sqft_lot', 'floors',\n",
      "       'waterfront', 'view', 'condition', 'grade', 'sqft_above', 'yr_built',\n",
      "       'sqft_living15', 'sqft_lot15', 'renovated', 'basement'],\n",
      "      dtype='object')\n"
     ]
    }
   ],
   "source": [
    "X = df.drop(['price'], axis=1)\n",
    "y = np.log(df.price)\n",
    "X_train, X_test, y_train, y_test = train_test_split(X, y, test_size = 0.3, random_state=4)\n",
    "linreg = LinearRegression()\n",
    "linreg.fit(X_train,y_train)\n",
    "linreg.score(X_train, y_train)\n",
    "i = 1\n",
    "while i <= (int(len(df.drop('price', axis=1).columns))):\n",
    "    linreg = LinearRegression()\n",
    "    selector = RFE(linreg, n_features_to_select = i)\n",
    "    selector = selector.fit(X, y) \n",
    "    selected_columns = X.columns[selector.support_ ]\n",
    "    linreg.fit(X[selected_columns],y)\n",
    "    r_2 = round(linreg.score(X_train[X_train.columns[selector.support_]], y_train), 5)\n",
    "    r_2a = round(1 - (1-linreg.score(X_train[X_train.columns[selector.support_]], y_train))*(len(y)-1)/(len(y)-X.shape[1]-1), 5)\n",
    "    print(str(i) + \" predictors - \" + str(r_2) + \" |||| \" + str(r_2a))\n",
    "    print(\"------- \" + str(X_train.columns[selector.support_]))\n",
    "    i += 1"
   ]
  },
  {
   "cell_type": "code",
   "execution_count": 132,
   "metadata": {},
   "outputs": [
    {
     "data": {
      "text/plain": [
       "count    2.080000e+04\n",
       "mean     5.030732e+05\n",
       "std      2.723739e+05\n",
       "min      7.800000e+04\n",
       "25%      3.175000e+05\n",
       "50%      4.400000e+05\n",
       "75%      6.170000e+05\n",
       "max      3.100000e+06\n",
       "Name: price, dtype: float64"
      ]
     },
     "execution_count": 132,
     "metadata": {},
     "output_type": "execute_result"
    }
   ],
   "source": [
    "df.price.describe()"
   ]
  },
  {
   "cell_type": "code",
   "execution_count": 138,
   "metadata": {},
   "outputs": [
    {
     "data": {
      "text/plain": [
       "<matplotlib.axes._subplots.AxesSubplot at 0x1ccf1f3bc18>"
      ]
     },
     "execution_count": 138,
     "metadata": {},
     "output_type": "execute_result"
    },
    {
     "data": {
      "image/png": "[encoded data removed]",
      "text/plain": [
       "<Figure size 432x288 with 1 Axes>"
      ]
     },
     "metadata": {
      "needs_background": "light"
     },
     "output_type": "display_data"
    }
   ],
   "source": [
    "df.price.hist()"
   ]
  },
  {
   "cell_type": "code",
   "execution_count": 139,
   "metadata": {},
   "outputs": [
    {
     "data": {
      "text/plain": [
       "<matplotlib.axes._subplots.AxesSubplot at 0x1ccf545e160>"
      ]
     },
     "execution_count": 139,
     "metadata": {},
     "output_type": "execute_result"
    },
    {
     "data": {
      "image/png": "[encoded data removed]",
      "text/plain": [
       "<Figure size 432x288 with 1 Axes>"
      ]
     },
     "metadata": {
      "needs_background": "light"
     },
     "output_type": "display_data"
    }
   ],
   "source": [
    "(np.log(df.price)).hist()"
   ]
  },
  {
   "cell_type": "code",
   "execution_count": 145,
   "metadata": {},
   "outputs": [],
   "source": [
    "df_n = df\n",
    "for i in df_n.columns:\n",
    "    df_n[i] = (df_n[i] - df_n[i].mean()) / df_n[i].std()"
   ]
  },
  {
   "cell_type": "code",
   "execution_count": 156,
   "metadata": {},
   "outputs": [
    {
     "name": "stdout",
     "output_type": "stream",
     "text": [
      "1 predictors - 0.39867 |||| 0.39823\n",
      "------- Index(['grade'], dtype='object')\n",
      "2 predictors - 0.49343 |||| 0.49307\n",
      "------- Index(['grade', 'yr_built'], dtype='object')\n",
      "3 predictors - 0.54368 |||| 0.54335\n",
      "------- Index(['sqft_living', 'grade', 'yr_built'], dtype='object')\n",
      "4 predictors - 0.56657 |||| 0.56626\n",
      "------- Index(['sqft_living', 'view', 'grade', 'yr_built'], dtype='object')\n",
      "5 predictors - 0.57246 |||| 0.57215\n",
      "------- Index(['sqft_living', 'view', 'grade', 'yr_built', 'sqft_living15'], dtype='object')\n",
      "6 predictors - 0.58022 |||| 0.57992\n",
      "------- Index(['sqft_living', 'waterfront', 'view', 'grade', 'yr_built',\n",
      "       'sqft_living15'],\n",
      "      dtype='object')\n",
      "7 predictors - 0.58709 |||| 0.58679\n",
      "------- Index(['sqft_living', 'floors', 'waterfront', 'view', 'grade', 'yr_built',\n",
      "       'sqft_living15'],\n",
      "      dtype='object')\n",
      "8 predictors - 0.59118 |||| 0.59088\n",
      "------- Index(['sqft_living', 'floors', 'waterfront', 'view', 'grade', 'yr_built',\n",
      "       'sqft_living15', 'basement'],\n",
      "      dtype='object')\n",
      "9 predictors - 0.59186 |||| 0.59157\n",
      "------- Index(['bathrooms', 'sqft_living', 'floors', 'waterfront', 'view', 'grade',\n",
      "       'yr_built', 'sqft_living15', 'basement'],\n",
      "      dtype='object')\n",
      "10 predictors - 0.59334 |||| 0.59305\n",
      "------- Index(['bedrooms', 'bathrooms', 'sqft_living', 'floors', 'waterfront', 'view',\n",
      "       'grade', 'yr_built', 'sqft_living15', 'basement'],\n",
      "      dtype='object')\n",
      "11 predictors - 0.59548 |||| 0.59519\n",
      "------- Index(['bedrooms', 'bathrooms', 'sqft_living', 'floors', 'waterfront', 'view',\n",
      "       'condition', 'grade', 'yr_built', 'sqft_living15', 'basement'],\n",
      "      dtype='object')\n",
      "12 predictors - 0.5955 |||| 0.59521\n",
      "------- Index(['bedrooms', 'bathrooms', 'sqft_living', 'floors', 'waterfront', 'view',\n",
      "       'condition', 'grade', 'sqft_above', 'yr_built', 'sqft_living15',\n",
      "       'basement'],\n",
      "      dtype='object')\n",
      "13 predictors - 0.5961 |||| 0.59581\n",
      "------- Index(['bedrooms', 'bathrooms', 'sqft_living', 'floors', 'waterfront', 'view',\n",
      "       'condition', 'grade', 'sqft_above', 'yr_built', 'sqft_living15',\n",
      "       'sqft_lot15', 'basement'],\n",
      "      dtype='object')\n",
      "14 predictors - 0.59663 |||| 0.59634\n",
      "------- Index(['bedrooms', 'bathrooms', 'sqft_living', 'floors', 'waterfront', 'view',\n",
      "       'condition', 'grade', 'sqft_above', 'yr_built', 'sqft_living15',\n",
      "       'sqft_lot15', 'renovated', 'basement'],\n",
      "      dtype='object')\n",
      "15 predictors - 0.59664 |||| 0.59635\n",
      "------- Index(['bedrooms', 'bathrooms', 'sqft_living', 'sqft_lot', 'floors',\n",
      "       'waterfront', 'view', 'condition', 'grade', 'sqft_above', 'yr_built',\n",
      "       'sqft_living15', 'sqft_lot15', 'renovated', 'basement'],\n",
      "      dtype='object')\n"
     ]
    }
   ],
   "source": [
    "X = df_n.drop(['price'], axis=1)\n",
    "y = df_n.price\n",
    "X_train, X_test, y_train, y_test = train_test_split(X, y, test_size = 0.3, random_state=4)\n",
    "linreg = LinearRegression()\n",
    "linreg.fit(X_train,y_train)\n",
    "linreg.score(X_train, y_train)\n",
    "i = 1\n",
    "while i <= (int(len(df.drop('price', axis=1).columns))):\n",
    "    linreg = LinearRegression()\n",
    "    selector = RFE(linreg, n_features_to_select = i)\n",
    "    selector = selector.fit(X, y) \n",
    "    selected_columns = X.columns[selector.support_ ]\n",
    "    linreg.fit(X[selected_columns],y)\n",
    "    r_2 = round(linreg.score(X_train[X_train.columns[selector.support_]], y_train), 5)\n",
    "    r_2a = round(1 - (1-linreg.score(X_train[X_train.columns[selector.support_]], y_train))*(len(y)-1)/(len(y)-X.shape[1]-1), 5)\n",
    "    print(str(i) + \" predictors - \" + str(r_2) + \" |||| \" + str(r_2a))\n",
    "    print(\"------- \" + str(X_train.columns[selector.support_]))\n",
    "    i += 1"
   ]
  },
  {
   "cell_type": "code",
   "execution_count": 157,
   "metadata": {},
   "outputs": [
    {
     "data": {
      "text/plain": [
       "LinearRegression(copy_X=True, fit_intercept=True, n_jobs=1, normalize=False)"
      ]
     },
     "execution_count": 157,
     "metadata": {},
     "output_type": "execute_result"
    }
   ],
   "source": [
    "linreg = LinearRegression()\n",
    "selector = RFE(linreg, n_features_to_select = 15)\n",
    "selector = selector.fit(X, y) \n",
    "selected_columns = X.columns[selector.support_ ]\n",
    "linreg.fit(X[selected_columns],y)"
   ]
  },
  {
   "cell_type": "code",
   "execution_count": 162,
   "metadata": {},
   "outputs": [
    {
     "name": "stdout",
     "output_type": "stream",
     "text": [
      "bedrooms -0.05912342676191065\n",
      "bathrooms 0.04640187198409545\n",
      "sqft_living 0.17887365970742888\n",
      "sqft_lot 0.016280353386869575\n",
      "floors 0.10706888865013522\n",
      "waterfront 0.10081437109034584\n",
      "view 0.10961459607470408\n",
      "condition 0.05564316353415692\n",
      "grade 0.4525980718736127\n",
      "sqft_above 0.028315660264371323\n",
      "yr_built -0.3347654325708907\n",
      "sqft_living15 0.15914220221902964\n",
      "sqft_lot15 -0.03721201113368068\n",
      "renovated 0.025208376930743025\n",
      "basement 0.07166283995713323\n"
     ]
    }
   ],
   "source": [
    "i=0\n",
    "while i < len(selected_columns):\n",
    "    print(str(selected_columns[i]) + \" \" + str(linreg.coef_[i]))\n",
    "    i += 1"
   ]
  },
  {
   "cell_type": "code",
   "execution_count": null,
   "metadata": {},
   "outputs": [],
   "source": []
  }
 ],
 "metadata": {
  "kernelspec": {
   "display_name": "Python 3",
   "language": "python",
   "name": "python3"
  },
  "language_info": {
   "codemirror_mode": {
    "name": "ipython",
    "version": 3
   },
   "file_extension": ".py",
   "mimetype": "text/x-python",
   "name": "python",
   "nbconvert_exporter": "python",
   "pygments_lexer": "ipython3",
   "version": "3.7.0"
  }
 },
 "nbformat": 4,
 "nbformat_minor": 2
}
