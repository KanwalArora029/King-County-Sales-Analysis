{
 "cells": [
  {
   "cell_type": "code",
   "execution_count": 1,
   "metadata": {},
   "outputs": [],
   "source": [
    "#importing required libraries and setting matplotlib to inline\n",
    "import pandas as pd\n",
    "import numpy as np\n",
    "import seaborn as sns\n",
    "import matplotlib.pyplot as plt\n",
    "import math\n",
    "import statsmodels.formula.api as smf\n",
    "from sklearn.linear_model import LinearRegression\n",
    "from sklearn.feature_selection import RFE\n",
    "from sklearn.model_selection import train_test_split\n",
    "import statsmodels.api as sm\n",
    "from sklearn.metrics import mean_squared_error\n",
    "from sklearn.model_selection import cross_val_score\n",
    "%matplotlib inline"
   ]
  },
  {
   "cell_type": "code",
   "execution_count": 2,
   "metadata": {},
   "outputs": [],
   "source": [
    "#grabbing the dataset\n",
    "df = pd.read_csv('kc_house_data.csv')"
   ]
  },
  {
   "cell_type": "code",
   "execution_count": 3,
   "metadata": {},
   "outputs": [],
   "source": [
    "#dropping id and date columns\n",
    "df.drop(['id', 'date'], axis=1, inplace=True)"
   ]
  },
  {
   "cell_type": "code",
   "execution_count": 4,
   "metadata": {},
   "outputs": [],
   "source": [
    "#replacing missing data in sqft_basement with column mean\n",
    "sqft_basement_numerical = df.sqft_basement[df.sqft_basement != '?']\n",
    "sqft_basement_numerical = sqft_basement_numerical.astype(float)\n",
    "sqft_basement_numerical_mean = round(sqft_basement_numerical.mean(),1)\n",
    "df['sqft_basement'] = (df['sqft_basement'].map(lambda x: sqft_basement_numerical_mean if x == '?' else x)).astype(float)"
   ]
  },
  {
   "cell_type": "code",
   "execution_count": 5,
   "metadata": {},
   "outputs": [],
   "source": [
    "#replacing null values in view with 0\n",
    "df['view'] = df['view'].fillna(0)"
   ]
  },
  {
   "cell_type": "code",
   "execution_count": 6,
   "metadata": {},
   "outputs": [],
   "source": [
    "#replacing null values in waterfront with 0\n",
    "df['waterfront'] = df['waterfront'].fillna(0)"
   ]
  },
  {
   "cell_type": "code",
   "execution_count": 7,
   "metadata": {},
   "outputs": [],
   "source": [
    "#replacing yr_renovated with categorical column renovated\n",
    "df['yr_renovated'] = df['yr_renovated'].fillna(0)\n",
    "df['renovated'] = df.apply(lambda row: 0 if row.yr_renovated < 1 else 1, axis=1)\n",
    "df.drop('yr_renovated', axis=1, inplace=True)"
   ]
  },
  {
   "cell_type": "code",
   "execution_count": 8,
   "metadata": {},
   "outputs": [],
   "source": [
    "#dropping lat, long, and zipcode columns\n",
    "df.drop('lat', axis=1, inplace=True)\n",
    "df.drop('long', axis=1, inplace=True)\n",
    "df.drop('zipcode', axis=1, inplace=True)"
   ]
  },
  {
   "cell_type": "code",
   "execution_count": 9,
   "metadata": {},
   "outputs": [],
   "source": [
    "#stepwise selection function\n",
    "import statsmodels.api as sm\n",
    "\n",
    "def stepwise_selection(X, y, \n",
    "                       initial_list=[], \n",
    "                       threshold_in=0.01, \n",
    "                       threshold_out = 0.05, \n",
    "                       verbose=True):\n",
    "    \"\"\" Perform a forward-backward feature selection \n",
    "    based on p-value from statsmodels.api.OLS\n",
    "    Arguments:\n",
    "        X - pandas.DataFrame with candidate features\n",
    "        y - list-like with the target\n",
    "        initial_list - list of features to start with (column names of X)\n",
    "        threshold_in - include a feature if its p-value < threshold_in\n",
    "        threshold_out - exclude a feature if its p-value > threshold_out\n",
    "        verbose - whether to print the sequence of inclusions and exclusions\n",
    "    Returns: list of selected features \n",
    "    Always set threshold_in < threshold_out to avoid infinite looping.\n",
    "    See https://en.wikipedia.org/wiki/Stepwise_regression for the details\n",
    "    \"\"\"\n",
    "    included = list(initial_list)\n",
    "    while True:\n",
    "        changed=False\n",
    "        # forward step\n",
    "        excluded = list(set(X.columns)-set(included))\n",
    "        new_pval = pd.Series(index=excluded)\n",
    "        for new_column in excluded:\n",
    "            model = sm.OLS(y, sm.add_constant(pd.DataFrame(X[included+[new_column]]))).fit()\n",
    "            new_pval[new_column] = model.pvalues[new_column]\n",
    "        best_pval = new_pval.min()\n",
    "        if best_pval < threshold_in:\n",
    "            best_feature = new_pval.idxmin()\n",
    "            included.append(best_feature)\n",
    "            changed=True\n",
    "            if verbose:\n",
    "                print('Add  {:30} with p-value {:.6}'.format(best_feature, best_pval))\n",
    "\n",
    "        # backward step\n",
    "        model = sm.OLS(y, sm.add_constant(pd.DataFrame(X[included]))).fit()\n",
    "        # use all coefs except intercept\n",
    "        pvalues = model.pvalues.iloc[1:]\n",
    "        worst_pval = pvalues.max() # null if pvalues is empty\n",
    "        if worst_pval > threshold_out:\n",
    "            changed=True\n",
    "            worst_feature = pvalues.argmax()\n",
    "            included.remove(worst_feature)\n",
    "            if verbose:\n",
    "                print('Drop {:30} with p-value {:.6}'.format(worst_feature, worst_pval))\n",
    "        if not changed:\n",
    "            break\n",
    "    return included"
   ]
  },
  {
   "cell_type": "code",
   "execution_count": 10,
   "metadata": {},
   "outputs": [
    {
     "data": {
      "text/plain": [
       "LinearRegression(copy_X=True, fit_intercept=True, n_jobs=1, normalize=False)"
      ]
     },
     "execution_count": 10,
     "metadata": {},
     "output_type": "execute_result"
    }
   ],
   "source": [
    "#initial linear regression with all variables\n",
    "X = df.drop('price', axis=1)\n",
    "y = df.price\n",
    "X_train, X_test, y_train, y_test = train_test_split(X, y, test_size = 0.25, random_state=47)\n",
    "linreg = LinearRegression()\n",
    "linreg.fit(X_train,y_train)"
   ]
  },
  {
   "cell_type": "code",
   "execution_count": 11,
   "metadata": {},
   "outputs": [
    {
     "name": "stdout",
     "output_type": "stream",
     "text": [
      "Train Mean Squarred Error: 46093680105.63467\n",
      "Test Mean Squarred Error: 48440819014.62178\n"
     ]
    }
   ],
   "source": [
    "#checking MSE of initial regression\n",
    "y_hat_train = linreg.predict(X_train)\n",
    "y_hat_test = linreg.predict(X_test)\n",
    "\n",
    "train_mse = mean_squared_error(y_train, y_hat_train)\n",
    "test_mse = mean_squared_error(y_test, y_hat_test)\n",
    "\n",
    "print('Train Mean Squarred Error:', train_mse)\n",
    "print('Test Mean Squarred Error:', test_mse)"
   ]
  },
  {
   "cell_type": "code",
   "execution_count": 12,
   "metadata": {},
   "outputs": [],
   "source": [
    "#for i in df.columns:\n",
    " #   df[i] = (df[i] - df[i].mean()) / df[i].std()\n",
    "#df.head()"
   ]
  },
  {
   "cell_type": "code",
   "execution_count": 13,
   "metadata": {},
   "outputs": [
    {
     "name": "stdout",
     "output_type": "stream",
     "text": [
      "Add  waterfront                     with p-value 0.0\n",
      "Add  grade                          with p-value 0.0\n",
      "Add  yr_built                       with p-value 0.0\n",
      "Add  sqft_above                     with p-value 0.0\n",
      "Add  sqft_basement                  with p-value 0.0\n",
      "Add  view                           with p-value 1.45107e-104\n",
      "Add  bedrooms                       with p-value 2.58954e-51\n",
      "Add  bathrooms                      with p-value 6.49456e-65\n",
      "Add  sqft_lot15                     with p-value 3.3687e-24\n",
      "Add  condition                      with p-value 5.15706e-13\n",
      "Add  floors                         with p-value 2.93718e-09\n",
      "Add  sqft_living15                  with p-value 9.83367e-12\n",
      "Add  sqft_living                    with p-value 9.09171e-06\n",
      "Add  renovated                      with p-value 0.00124564\n",
      "resulting features:\n",
      "['waterfront', 'grade', 'yr_built', 'sqft_above', 'sqft_basement', 'view', 'bedrooms', 'bathrooms', 'sqft_lot15', 'condition', 'floors', 'sqft_living15', 'sqft_living', 'renovated']\n"
     ]
    }
   ],
   "source": [
    "#checking p-value of predictors\n",
    "result = stepwise_selection(X, y, verbose = True)\n",
    "print('resulting features:')\n",
    "print(result)"
   ]
  },
  {
   "cell_type": "code",
   "execution_count": 78,
   "metadata": {
    "scrolled": true
   },
   "outputs": [
    {
     "name": "stdout",
     "output_type": "stream",
     "text": [
      "1 predictors -\n",
      "R-squared = 0.005945692787605816\n",
      "Adjusted R-squared = 0.005888879944992098\n",
      "Index(['waterfront'], dtype='object')\n",
      "--------------------------------------------\n",
      "2 predictors -\n",
      "R-squared = 0.9861971102936212\n",
      "Adjusted R-squared = 0.9861955324598642\n",
      "Index(['waterfront', 'grade'], dtype='object')\n",
      "--------------------------------------------\n",
      "3 predictors -\n",
      "R-squared = 0.9862903201667741\n",
      "Adjusted R-squared = 0.9862879692642591\n",
      "Index(['waterfront', 'view', 'grade'], dtype='object')\n",
      "--------------------------------------------\n",
      "4 predictors -\n",
      "R-squared = 0.9866184944862949\n",
      "Adjusted R-squared = 0.9866154348074304\n",
      "Index(['waterfront', 'view', 'grade', 'basement'], dtype='object')\n",
      "--------------------------------------------\n",
      "5 predictors -\n",
      "R-squared = 0.9887856698516452\n",
      "Adjusted R-squared = 0.9887824644751665\n",
      "Index(['bathrooms', 'waterfront', 'view', 'grade', 'basement'], dtype='object')\n",
      "--------------------------------------------\n",
      "6 predictors -\n",
      "R-squared = 0.9889628979724613\n",
      "Adjusted R-squared = 0.9889591120925068\n",
      "Index(['bathrooms', 'floors', 'waterfront', 'view', 'grade', 'basement'], dtype='object')\n",
      "--------------------------------------------\n",
      "7 predictors -\n",
      "R-squared = 0.9940434034309499\n",
      "Adjusted R-squared = 0.9940410195663347\n",
      "Index(['bathrooms', 'floors', 'waterfront', 'view', 'grade', 'basement',\n",
      "       'age'],\n",
      "      dtype='object')\n",
      "--------------------------------------------\n",
      "8 predictors -\n",
      "R-squared = 0.9941317379438923\n",
      "Adjusted R-squared = 0.9941290537759992\n",
      "Index(['bathrooms', 'floors', 'waterfront', 'view', 'grade', 'renovated',\n",
      "       'basement', 'age'],\n",
      "      dtype='object')\n",
      "--------------------------------------------\n",
      "9 predictors -\n",
      "R-squared = 0.9950879707665773\n",
      "Adjusted R-squared = 0.995085442991227\n",
      "Index(['bathrooms', 'floors', 'waterfront', 'view', 'condition', 'grade',\n",
      "       'renovated', 'basement', 'age'],\n",
      "      dtype='object')\n",
      "--------------------------------------------\n",
      "10 predictors -\n",
      "R-squared = 0.9973235293853886\n",
      "Adjusted R-squared = 0.9973219989241496\n",
      "Index(['bathrooms', 'floors', 'waterfront', 'view', 'condition', 'grade',\n",
      "       'sqft_lot15', 'renovated', 'basement', 'age'],\n",
      "      dtype='object')\n",
      "--------------------------------------------\n",
      "11 predictors -\n",
      "R-squared = 0.9973254654629076\n",
      "Adjusted R-squared = 0.9973237830771405\n",
      "Index(['bedrooms', 'bathrooms', 'floors', 'waterfront', 'view', 'condition',\n",
      "       'grade', 'sqft_lot15', 'renovated', 'basement', 'age'],\n",
      "      dtype='object')\n",
      "--------------------------------------------\n",
      "12 predictors -\n",
      "R-squared = 0.9973332654956688\n",
      "Adjusted R-squared = 0.9973314354136573\n",
      "Index(['bedrooms', 'bathrooms', 'sqft_lot', 'floors', 'waterfront', 'view',\n",
      "       'condition', 'grade', 'sqft_lot15', 'renovated', 'basement', 'age'],\n",
      "      dtype='object')\n",
      "--------------------------------------------\n",
      "13 predictors -\n",
      "R-squared = 0.9973568789059676\n",
      "Adjusted R-squared = 0.9973549137601727\n",
      "Index(['bedrooms', 'bathrooms', 'sqft_living', 'sqft_lot', 'floors',\n",
      "       'waterfront', 'view', 'condition', 'grade', 'sqft_lot15', 'renovated',\n",
      "       'basement', 'age'],\n",
      "      dtype='object')\n",
      "--------------------------------------------\n",
      "14 predictors -\n",
      "R-squared = 0.9973583239639809\n",
      "Adjusted R-squared = 0.9973562086891866\n",
      "Index(['bedrooms', 'bathrooms', 'sqft_living', 'sqft_lot', 'floors',\n",
      "       'waterfront', 'view', 'condition', 'grade', 'sqft_above', 'sqft_lot15',\n",
      "       'renovated', 'basement', 'age'],\n",
      "      dtype='object')\n",
      "--------------------------------------------\n",
      "15 predictors -\n",
      "R-squared = 0.9974312320052156\n",
      "Adjusted R-squared = 0.9974290280631048\n",
      "Index(['bedrooms', 'bathrooms', 'sqft_living', 'sqft_lot', 'floors',\n",
      "       'waterfront', 'view', 'condition', 'grade', 'sqft_above',\n",
      "       'sqft_living15', 'sqft_lot15', 'renovated', 'basement', 'age'],\n",
      "      dtype='object')\n",
      "--------------------------------------------\n"
     ]
    }
   ],
   "source": [
    "#checking r-squared and adjusted r-squared for predictors chosen by RFE\n",
    "i = 1\n",
    "while i <= (int(len(df.drop('price', axis=1).columns))):\n",
    "    linreg = LinearRegression()\n",
    "    selector = RFE(linreg, n_features_to_select = i)\n",
    "    selector = selector.fit(X_train, y_train) \n",
    "    selected_columns = X.columns[selector.support_ ]\n",
    "\n",
    "    model = sm.OLS(y_train,X_train[selected_columns])\n",
    "    results = model.fit()\n",
    "    results.summary()\n",
    "    print(str(i) + \" predictors -\")\n",
    "    print(\"R-squared = \" + str(results.rsquared))\n",
    "    print(\"Adjusted R-squared = \" + str(results.rsquared_adj))\n",
    "    print(str((X_train.columns[selector.support_])))\n",
    "    print(\"--------------------------------------------\")\n",
    "    i += 1"
   ]
  },
  {
   "cell_type": "code",
   "execution_count": 16,
   "metadata": {},
   "outputs": [
    {
     "data": {
      "text/plain": [
       "array([[<matplotlib.axes._subplots.AxesSubplot object at 0x00000169E2F700B8>,\n",
       "        <matplotlib.axes._subplots.AxesSubplot object at 0x00000169E2D3DE10>,\n",
       "        <matplotlib.axes._subplots.AxesSubplot object at 0x00000169E31F07F0>,\n",
       "        <matplotlib.axes._subplots.AxesSubplot object at 0x00000169E31B24E0>],\n",
       "       [<matplotlib.axes._subplots.AxesSubplot object at 0x00000169E2D81F60>,\n",
       "        <matplotlib.axes._subplots.AxesSubplot object at 0x00000169E2D81F98>,\n",
       "        <matplotlib.axes._subplots.AxesSubplot object at 0x00000169E30455C0>,\n",
       "        <matplotlib.axes._subplots.AxesSubplot object at 0x00000169E306D8D0>],\n",
       "       [<matplotlib.axes._subplots.AxesSubplot object at 0x00000169E3095BE0>,\n",
       "        <matplotlib.axes._subplots.AxesSubplot object at 0x00000169E30BDEF0>,\n",
       "        <matplotlib.axes._subplots.AxesSubplot object at 0x00000169E30F1240>,\n",
       "        <matplotlib.axes._subplots.AxesSubplot object at 0x00000169E3118550>],\n",
       "       [<matplotlib.axes._subplots.AxesSubplot object at 0x00000169E3141860>,\n",
       "        <matplotlib.axes._subplots.AxesSubplot object at 0x00000169E323CC88>,\n",
       "        <matplotlib.axes._subplots.AxesSubplot object at 0x00000169E326C358>,\n",
       "        <matplotlib.axes._subplots.AxesSubplot object at 0x00000169E32909E8>]],\n",
       "      dtype=object)"
      ]
     },
     "execution_count": 16,
     "metadata": {},
     "output_type": "execute_result"
    },
    {
     "data": {
      "image/png": "[encoded data removed]",
      "text/plain": [
       "<Figure size 864x864 with 16 Axes>"
      ]
     },
     "metadata": {
      "needs_background": "light"
     },
     "output_type": "display_data"
    }
   ],
   "source": [
    "#intial histogram of all variables to examine skew and distribution\n",
    "df.hist(figsize=(12,12))"
   ]
  },
  {
   "cell_type": "code",
   "execution_count": 17,
   "metadata": {},
   "outputs": [
    {
     "data": {
      "text/plain": [
       "3     9824\n",
       "4     6882\n",
       "2     2760\n",
       "5     1601\n",
       "6      272\n",
       "1      196\n",
       "7       38\n",
       "8       13\n",
       "9        6\n",
       "10       3\n",
       "11       1\n",
       "33       1\n",
       "Name: bedrooms, dtype: int64"
      ]
     },
     "execution_count": 17,
     "metadata": {},
     "output_type": "execute_result"
    }
   ],
   "source": [
    "#checking bedrooms for outliers\n",
    "df.bedrooms.value_counts()"
   ]
  },
  {
   "cell_type": "code",
   "execution_count": 20,
   "metadata": {},
   "outputs": [
    {
     "data": {
      "text/plain": [
       "<matplotlib.axes._subplots.AxesSubplot at 0x169e3301470>"
      ]
     },
     "execution_count": 20,
     "metadata": {},
     "output_type": "execute_result"
    },
    {
     "data": {
      "image/png": "[encoded data removed]",
      "text/plain": [
       "<Figure size 432x288 with 1 Axes>"
      ]
     },
     "metadata": {
      "needs_background": "light"
     },
     "output_type": "display_data"
    }
   ],
   "source": [
    "#histogram before removal of outliers\n",
    "df.bedrooms.hist()"
   ]
  },
  {
   "cell_type": "code",
   "execution_count": 21,
   "metadata": {},
   "outputs": [],
   "source": [
    "#removing outliers\n",
    "df.drop(df.index[df['bedrooms'] >= 8], inplace=True)"
   ]
  },
  {
   "cell_type": "code",
   "execution_count": 22,
   "metadata": {},
   "outputs": [
    {
     "data": {
      "text/plain": [
       "<matplotlib.axes._subplots.AxesSubplot at 0x169e797fef0>"
      ]
     },
     "execution_count": 22,
     "metadata": {},
     "output_type": "execute_result"
    },
    {
     "data": {
      "image/png": "[encoded data removed]",
      "text/plain": [
       "<Figure size 432x288 with 1 Axes>"
      ]
     },
     "metadata": {
      "needs_background": "light"
     },
     "output_type": "display_data"
    }
   ],
   "source": [
    "#histogram after removal of outliers\n",
    "df.bedrooms.hist()"
   ]
  },
  {
   "cell_type": "code",
   "execution_count": 23,
   "metadata": {},
   "outputs": [
    {
     "data": {
      "text/plain": [
       "<matplotlib.axes._subplots.AxesSubplot at 0x169e2defd30>"
      ]
     },
     "execution_count": 23,
     "metadata": {},
     "output_type": "execute_result"
    },
    {
     "data": {
      "image/png": "[encoded data removed]",
      "text/plain": [
       "<Figure size 432x288 with 1 Axes>"
      ]
     },
     "metadata": {
      "needs_background": "light"
     },
     "output_type": "display_data"
    }
   ],
   "source": [
    "#bathrooms histogram\n",
    "df.bathrooms.hist()"
   ]
  },
  {
   "cell_type": "code",
   "execution_count": 24,
   "metadata": {},
   "outputs": [
    {
     "data": {
      "text/plain": [
       "<matplotlib.axes._subplots.AxesSubplot at 0x169e2e655c0>"
      ]
     },
     "execution_count": 24,
     "metadata": {},
     "output_type": "execute_result"
    },
    {
     "data": {
      "image/png": "[encoded data removed]",
      "text/plain": [
       "<Figure size 432x288 with 1 Axes>"
      ]
     },
     "metadata": {
      "needs_background": "light"
     },
     "output_type": "display_data"
    }
   ],
   "source": [
    "#using log transformation on bathrooms\n",
    "(np.log(df.bathrooms)).hist()"
   ]
  },
  {
   "cell_type": "code",
   "execution_count": 25,
   "metadata": {},
   "outputs": [],
   "source": [
    "#transforming bathrooms\n",
    "df.bathrooms = np.log(df.bathrooms)"
   ]
  },
  {
   "cell_type": "code",
   "execution_count": 28,
   "metadata": {},
   "outputs": [
    {
     "data": {
      "text/plain": [
       "<matplotlib.axes._subplots.AxesSubplot at 0x169e2f32978>"
      ]
     },
     "execution_count": 28,
     "metadata": {},
     "output_type": "execute_result"
    },
    {
     "data": {
      "image/png": "[encoded data removed]",
      "text/plain": [
       "<Figure size 432x288 with 1 Axes>"
      ]
     },
     "metadata": {
      "needs_background": "light"
     },
     "output_type": "display_data"
    }
   ],
   "source": [
    "#sqft_living histogram\n",
    "df.sqft_living.hist()"
   ]
  },
  {
   "cell_type": "code",
   "execution_count": 29,
   "metadata": {},
   "outputs": [
    {
     "name": "stdout",
     "output_type": "stream",
     "text": [
      "9\n",
      "67\n",
      "773\n"
     ]
    }
   ],
   "source": [
    "#checking count of outliers\n",
    "print(len(df[df.sqft_living > 8000]))\n",
    "print(len(df[df.sqft_living > 6000]))\n",
    "print(len(df[df.sqft_living > 4000]))"
   ]
  },
  {
   "cell_type": "code",
   "execution_count": 30,
   "metadata": {},
   "outputs": [],
   "source": [
    "#removing outliers\n",
    "df.drop(df.index[df['sqft_living'] > 4000], inplace=True)"
   ]
  },
  {
   "cell_type": "code",
   "execution_count": 31,
   "metadata": {
    "scrolled": true
   },
   "outputs": [
    {
     "data": {
      "text/plain": [
       "<matplotlib.axes._subplots.AxesSubplot at 0x169e7c74048>"
      ]
     },
     "execution_count": 31,
     "metadata": {},
     "output_type": "execute_result"
    },
    {
     "data": {
      "image/png": "[encoded data removed]",
      "text/plain": [
       "<Figure size 432x288 with 1 Axes>"
      ]
     },
     "metadata": {
      "needs_background": "light"
     },
     "output_type": "display_data"
    }
   ],
   "source": [
    "#histogram after removal of outliers\n",
    "df.sqft_living.hist()"
   ]
  },
  {
   "cell_type": "code",
   "execution_count": 32,
   "metadata": {},
   "outputs": [
    {
     "data": {
      "text/plain": [
       "<matplotlib.axes._subplots.AxesSubplot at 0x169e7d257b8>"
      ]
     },
     "execution_count": 32,
     "metadata": {},
     "output_type": "execute_result"
    },
    {
     "data": {
      "image/png": "[encoded data removed]",
      "text/plain": [
       "<Figure size 432x288 with 1 Axes>"
      ]
     },
     "metadata": {
      "needs_background": "light"
     },
     "output_type": "display_data"
    }
   ],
   "source": [
    "#histogram of square root transformed sqft_living\n",
    "(np.sqrt(df.sqft_living)).hist()"
   ]
  },
  {
   "cell_type": "code",
   "execution_count": 33,
   "metadata": {},
   "outputs": [],
   "source": [
    "#square root transformation on sqft_living\n",
    "df.sqft_living = np.sqrt(df.sqft_living)"
   ]
  },
  {
   "cell_type": "code",
   "execution_count": 34,
   "metadata": {},
   "outputs": [
    {
     "data": {
      "text/plain": [
       "<matplotlib.axes._subplots.AxesSubplot at 0x169e7a467b8>"
      ]
     },
     "execution_count": 34,
     "metadata": {},
     "output_type": "execute_result"
    },
    {
     "data": {
      "image/png": "[encoded data removed]",
      "text/plain": [
       "<Figure size 432x288 with 1 Axes>"
      ]
     },
     "metadata": {
      "needs_background": "light"
     },
     "output_type": "display_data"
    }
   ],
   "source": [
    "#sqft_above histogram\n",
    "df.sqft_above.hist()"
   ]
  },
  {
   "cell_type": "code",
   "execution_count": 35,
   "metadata": {},
   "outputs": [],
   "source": [
    "#square root transformation\n",
    "df.sqft_above = np.sqrt(df.sqft_above)"
   ]
  },
  {
   "cell_type": "code",
   "execution_count": 36,
   "metadata": {},
   "outputs": [
    {
     "data": {
      "text/plain": [
       "<matplotlib.axes._subplots.AxesSubplot at 0x169e7d86dd8>"
      ]
     },
     "execution_count": 36,
     "metadata": {},
     "output_type": "execute_result"
    },
    {
     "data": {
      "image/png": "[encoded data removed]",
      "text/plain": [
       "<Figure size 432x288 with 1 Axes>"
      ]
     },
     "metadata": {
      "needs_background": "light"
     },
     "output_type": "display_data"
    }
   ],
   "source": [
    "#square root transformed histogram\n",
    "df.sqft_above.hist()"
   ]
  },
  {
   "cell_type": "code",
   "execution_count": 37,
   "metadata": {},
   "outputs": [
    {
     "data": {
      "text/plain": [
       "<matplotlib.axes._subplots.AxesSubplot at 0x169ea3ab0f0>"
      ]
     },
     "execution_count": 37,
     "metadata": {},
     "output_type": "execute_result"
    },
    {
     "data": {
      "image/png": "[encoded data removed]",
      "text/plain": [
       "<Figure size 432x288 with 1 Axes>"
      ]
     },
     "metadata": {
      "needs_background": "light"
     },
     "output_type": "display_data"
    }
   ],
   "source": [
    "#sqft_basement histogram\n",
    "df.sqft_basement.hist()"
   ]
  },
  {
   "cell_type": "code",
   "execution_count": 38,
   "metadata": {},
   "outputs": [],
   "source": [
    "#creating new column that declares whether or not a home has a basement\n",
    "df['basement'] = df.apply(lambda row: 0 if row.sqft_basement == 0 else 1, axis=1)"
   ]
  },
  {
   "cell_type": "code",
   "execution_count": 39,
   "metadata": {},
   "outputs": [],
   "source": [
    "#removing old sqft_basement column\n",
    "df.drop('sqft_basement', axis=1, inplace=True)"
   ]
  },
  {
   "cell_type": "code",
   "execution_count": 40,
   "metadata": {
    "scrolled": true
   },
   "outputs": [
    {
     "data": {
      "text/plain": [
       "<matplotlib.axes._subplots.AxesSubplot at 0x169ea40c4e0>"
      ]
     },
     "execution_count": 40,
     "metadata": {},
     "output_type": "execute_result"
    },
    {
     "data": {
      "image/png": "[encoded data removed]",
      "text/plain": [
       "<Figure size 432x288 with 1 Axes>"
      ]
     },
     "metadata": {
      "needs_background": "light"
     },
     "output_type": "display_data"
    }
   ],
   "source": [
    "#new binary basement histogram\n",
    "df.basement.hist()"
   ]
  },
  {
   "cell_type": "code",
   "execution_count": 80,
   "metadata": {},
   "outputs": [
    {
     "data": {
      "text/plain": [
       "<matplotlib.axes._subplots.AxesSubplot at 0x169e7a97d68>"
      ]
     },
     "execution_count": 80,
     "metadata": {},
     "output_type": "execute_result"
    },
    {
     "data": {
      "image/png": "[encoded data removed]",
      "text/plain": [
       "<Figure size 432x288 with 1 Axes>"
      ]
     },
     "metadata": {
      "needs_background": "light"
     },
     "output_type": "display_data"
    }
   ],
   "source": [
    "#price histogram\n",
    "df.price.hist()"
   ]
  },
  {
   "cell_type": "code",
   "execution_count": 41,
   "metadata": {},
   "outputs": [],
   "source": [
    "#log transformation on price\n",
    "df.price = np.log(df.price)\n",
    "df.price.hist()"
   ]
  },
  {
   "cell_type": "code",
   "execution_count": 42,
   "metadata": {
    "scrolled": true
   },
   "outputs": [
    {
     "data": {
      "text/plain": [
       "count    20800.000000\n",
       "mean      1970.352644\n",
       "std         29.308936\n",
       "min       1900.000000\n",
       "25%       1951.000000\n",
       "50%       1973.000000\n",
       "75%       1995.000000\n",
       "max       2015.000000\n",
       "Name: yr_built, dtype: float64"
      ]
     },
     "execution_count": 42,
     "metadata": {},
     "output_type": "execute_result"
    }
   ],
   "source": [
    "#viewing stats of yr_built\n",
    "df.yr_built.describe()"
   ]
  },
  {
   "cell_type": "code",
   "execution_count": 43,
   "metadata": {},
   "outputs": [],
   "source": [
    "#creating new column age that declares the age of the home\n",
    "df['age'] = (df.yr_built.max() - df.yr_built)"
   ]
  },
  {
   "cell_type": "code",
   "execution_count": 44,
   "metadata": {
    "scrolled": true
   },
   "outputs": [
    {
     "data": {
      "text/plain": [
       "<matplotlib.axes._subplots.AxesSubplot at 0x169ea71f860>"
      ]
     },
     "execution_count": 44,
     "metadata": {},
     "output_type": "execute_result"
    },
    {
     "data": {
      "image/png": "[encoded data removed]",
      "text/plain": [
       "<Figure size 432x288 with 1 Axes>"
      ]
     },
     "metadata": {
      "needs_background": "light"
     },
     "output_type": "display_data"
    }
   ],
   "source": [
    "#histogram of new age column\n",
    "df.age.hist()"
   ]
  },
  {
   "cell_type": "code",
   "execution_count": 45,
   "metadata": {
    "scrolled": true
   },
   "outputs": [
    {
     "data": {
      "text/plain": [
       "<matplotlib.axes._subplots.AxesSubplot at 0x169ea7a8128>"
      ]
     },
     "execution_count": 45,
     "metadata": {},
     "output_type": "execute_result"
    },
    {
     "data": {
      "image/png": "[encoded data removed]",
      "text/plain": [
       "<Figure size 432x288 with 1 Axes>"
      ]
     },
     "metadata": {
      "needs_background": "light"
     },
     "output_type": "display_data"
    }
   ],
   "source": [
    "#square root transformation on age\n",
    "df.age = np.sqrt(df.age)\n",
    "(np.sqrt(df.age)).hist()"
   ]
  },
  {
   "cell_type": "code",
   "execution_count": 47,
   "metadata": {},
   "outputs": [],
   "source": [
    "#removal of old yr_built column\n",
    "df.drop('yr_built',axis=1,inplace=True)"
   ]
  },
  {
   "cell_type": "code",
   "execution_count": 48,
   "metadata": {
    "scrolled": true
   },
   "outputs": [
    {
     "data": {
      "text/plain": [
       "<matplotlib.axes._subplots.AxesSubplot at 0x169ea81d780>"
      ]
     },
     "execution_count": 48,
     "metadata": {},
     "output_type": "execute_result"
    },
    {
     "data": {
      "image/png": "[encoded data removed]",
      "text/plain": [
       "<Figure size 432x288 with 1 Axes>"
      ]
     },
     "metadata": {
      "needs_background": "light"
     },
     "output_type": "display_data"
    }
   ],
   "source": [
    "#sqft_lot histogram\n",
    "df.sqft_lot.hist()"
   ]
  },
  {
   "cell_type": "code",
   "execution_count": 49,
   "metadata": {},
   "outputs": [
    {
     "data": {
      "text/plain": [
       "213"
      ]
     },
     "execution_count": 49,
     "metadata": {},
     "output_type": "execute_result"
    }
   ],
   "source": [
    "#checking number of outliers\n",
    "len(df[df.sqft_lot>200000])"
   ]
  },
  {
   "cell_type": "code",
   "execution_count": 50,
   "metadata": {},
   "outputs": [],
   "source": [
    "#removal of outliers\n",
    "df.drop(df.index[df['sqft_lot'] > 200000], inplace=True)"
   ]
  },
  {
   "cell_type": "code",
   "execution_count": 51,
   "metadata": {
    "scrolled": true
   },
   "outputs": [
    {
     "data": {
      "text/plain": [
       "<matplotlib.axes._subplots.AxesSubplot at 0x169ea89de10>"
      ]
     },
     "execution_count": 51,
     "metadata": {},
     "output_type": "execute_result"
    },
    {
     "data": {
      "image/png": "[encoded data removed]",
      "text/plain": [
       "<Figure size 432x288 with 1 Axes>"
      ]
     },
     "metadata": {
      "needs_background": "light"
     },
     "output_type": "display_data"
    }
   ],
   "source": [
    "#histogram after removal of outliers\n",
    "df.sqft_lot.hist()"
   ]
  },
  {
   "cell_type": "code",
   "execution_count": 52,
   "metadata": {
    "scrolled": true
   },
   "outputs": [
    {
     "data": {
      "text/plain": [
       "<matplotlib.axes._subplots.AxesSubplot at 0x169ea272630>"
      ]
     },
     "execution_count": 52,
     "metadata": {},
     "output_type": "execute_result"
    },
    {
     "data": {
      "image/png": "[encoded data removed]",
      "text/plain": [
       "<Figure size 432x288 with 1 Axes>"
      ]
     },
     "metadata": {
      "needs_background": "light"
     },
     "output_type": "display_data"
    }
   ],
   "source": [
    "#log transformation of sqft_lot\n",
    "df.sqft_lot = np.log(df.sqft_lot)\n",
    "sqft_lot.hist()"
   ]
  },
  {
   "cell_type": "code",
   "execution_count": 81,
   "metadata": {},
   "outputs": [
    {
     "data": {
      "text/plain": [
       "<matplotlib.axes._subplots.AxesSubplot at 0x169ea327438>"
      ]
     },
     "execution_count": 81,
     "metadata": {},
     "output_type": "execute_result"
    },
    {
     "data": {
      "image/png": "[encoded data removed]",
      "text/plain": [
       "<Figure size 432x288 with 1 Axes>"
      ]
     },
     "metadata": {
      "needs_background": "light"
     },
     "output_type": "display_data"
    }
   ],
   "source": [
    "#histogram of sqft_lot15\n",
    "df.sqft_lot15.hist()"
   ]
  },
  {
   "cell_type": "code",
   "execution_count": 54,
   "metadata": {},
   "outputs": [],
   "source": [
    "#log transformed sqft_lot15\n",
    "df.sqft_lot15 = np.log(df.sqft_lot15)\n",
    "df.sqft_lot15.hist()"
   ]
  },
  {
   "cell_type": "code",
   "execution_count": 55,
   "metadata": {
    "scrolled": true
   },
   "outputs": [
    {
     "data": {
      "text/plain": [
       "<matplotlib.axes._subplots.AxesSubplot at 0x169ea2db208>"
      ]
     },
     "execution_count": 55,
     "metadata": {},
     "output_type": "execute_result"
    },
    {
     "data": {
      "image/png": "[encoded data removed]",
      "text/plain": [
       "<Figure size 432x288 with 1 Axes>"
      ]
     },
     "metadata": {
      "needs_background": "light"
     },
     "output_type": "display_data"
    }
   ],
   "source": [
    "#view histogram\n",
    "df.view.hist()"
   ]
  },
  {
   "cell_type": "code",
   "execution_count": 56,
   "metadata": {},
   "outputs": [
    {
     "data": {
      "text/plain": [
       "array([0., 3., 4., 2., 1.])"
      ]
     },
     "execution_count": 56,
     "metadata": {},
     "output_type": "execute_result"
    }
   ],
   "source": [
    "#unique values of view\n",
    "df.view.unique()"
   ]
  },
  {
   "cell_type": "code",
   "execution_count": 82,
   "metadata": {},
   "outputs": [
    {
     "data": {
      "text/plain": [
       "<matplotlib.axes._subplots.AxesSubplot at 0x169e2bd33c8>"
      ]
     },
     "execution_count": 82,
     "metadata": {},
     "output_type": "execute_result"
    },
    {
     "data": {
      "image/png": "[encoded data removed]",
      "text/plain": [
       "<Figure size 432x288 with 1 Axes>"
      ]
     },
     "metadata": {
      "needs_background": "light"
     },
     "output_type": "display_data"
    }
   ],
   "source": [
    "#converting all view values above 0 to 1 to signify that the home has been viewed\n",
    "i = 4\n",
    "while i > 0:\n",
    "    df.view = df.view.replace(i, 1)\n",
    "    i -= 1\n",
    "df.view.hist()"
   ]
  },
  {
   "cell_type": "code",
   "execution_count": 83,
   "metadata": {},
   "outputs": [
    {
     "data": {
      "text/plain": [
       "array([[<matplotlib.axes._subplots.AxesSubplot object at 0x00000169E7B98668>,\n",
       "        <matplotlib.axes._subplots.AxesSubplot object at 0x00000169EAA9DFD0>,\n",
       "        <matplotlib.axes._subplots.AxesSubplot object at 0x00000169EAAD1320>,\n",
       "        <matplotlib.axes._subplots.AxesSubplot object at 0x00000169EAAF7630>],\n",
       "       [<matplotlib.axes._subplots.AxesSubplot object at 0x00000169EDD90940>,\n",
       "        <matplotlib.axes._subplots.AxesSubplot object at 0x00000169EDD90978>,\n",
       "        <matplotlib.axes._subplots.AxesSubplot object at 0x00000169EDDE4F60>,\n",
       "        <matplotlib.axes._subplots.AxesSubplot object at 0x00000169EDE182B0>],\n",
       "       [<matplotlib.axes._subplots.AxesSubplot object at 0x00000169EDE425C0>,\n",
       "        <matplotlib.axes._subplots.AxesSubplot object at 0x00000169EDE6A8D0>,\n",
       "        <matplotlib.axes._subplots.AxesSubplot object at 0x00000169EE2B3BE0>,\n",
       "        <matplotlib.axes._subplots.AxesSubplot object at 0x00000169EE2DDEF0>],\n",
       "       [<matplotlib.axes._subplots.AxesSubplot object at 0x00000169EE310240>,\n",
       "        <matplotlib.axes._subplots.AxesSubplot object at 0x00000169EE33A550>,\n",
       "        <matplotlib.axes._subplots.AxesSubplot object at 0x00000169EE362898>,\n",
       "        <matplotlib.axes._subplots.AxesSubplot object at 0x00000169EE389EF0>]],\n",
       "      dtype=object)"
      ]
     },
     "execution_count": 83,
     "metadata": {},
     "output_type": "execute_result"
    },
    {
     "data": {
      "image/png": "[encoded data removed]",
      "text/plain": [
       "<Figure size 864x864 with 16 Axes>"
      ]
     },
     "metadata": {
      "needs_background": "light"
     },
     "output_type": "display_data"
    }
   ],
   "source": [
    "#updated histogram of all variables after transformations and adjustments\n",
    "df.hist(figsize=(12,12))"
   ]
  },
  {
   "cell_type": "code",
   "execution_count": 59,
   "metadata": {},
   "outputs": [
    {
     "name": "stdout",
     "output_type": "stream",
     "text": [
      "1 predictors - 0.09120754284332022\n",
      "------- Index(['view'], dtype='object')\n",
      "2 predictors - 0.09121216011384703\n",
      "------- Index(['waterfront', 'view'], dtype='object')\n",
      "3 predictors - 0.9863557986824313\n",
      "------- Index(['waterfront', 'view', 'grade'], dtype='object')\n",
      "4 predictors - 0.9866786169680228\n",
      "------- Index(['waterfront', 'view', 'grade', 'basement'], dtype='object')\n",
      "5 predictors - 0.9888767380548678\n",
      "------- Index(['bathrooms', 'waterfront', 'view', 'grade', 'basement'], dtype='object')\n",
      "6 predictors - 0.9890447323863452\n",
      "------- Index(['bathrooms', 'floors', 'waterfront', 'view', 'grade', 'basement'], dtype='object')\n",
      "7 predictors - 0.9940252366431639\n",
      "------- Index(['bathrooms', 'floors', 'waterfront', 'view', 'grade', 'basement',\n",
      "       'age'],\n",
      "      dtype='object')\n",
      "8 predictors - 0.9941157533758272\n",
      "------- Index(['bathrooms', 'floors', 'waterfront', 'view', 'grade', 'renovated',\n",
      "       'basement', 'age'],\n",
      "      dtype='object')\n",
      "9 predictors - 0.9950831518803513\n",
      "------- Index(['bathrooms', 'floors', 'waterfront', 'view', 'condition', 'grade',\n",
      "       'renovated', 'basement', 'age'],\n",
      "      dtype='object')\n",
      "10 predictors - 0.9973221874890704\n",
      "------- Index(['bathrooms', 'floors', 'waterfront', 'view', 'condition', 'grade',\n",
      "       'sqft_lot15', 'renovated', 'basement', 'age'],\n",
      "      dtype='object')\n",
      "11 predictors - 0.9973243203226245\n",
      "------- Index(['bedrooms', 'bathrooms', 'floors', 'waterfront', 'view', 'condition',\n",
      "       'grade', 'sqft_lot15', 'renovated', 'basement', 'age'],\n",
      "      dtype='object')\n",
      "12 predictors - 0.9973330929775265\n",
      "------- Index(['bedrooms', 'bathrooms', 'sqft_lot', 'floors', 'waterfront', 'view',\n",
      "       'condition', 'grade', 'sqft_lot15', 'renovated', 'basement', 'age'],\n",
      "      dtype='object')\n",
      "13 predictors - 0.9973563327827726\n",
      "------- Index(['bedrooms', 'bathrooms', 'sqft_living', 'sqft_lot', 'floors',\n",
      "       'waterfront', 'view', 'condition', 'grade', 'sqft_lot15', 'renovated',\n",
      "       'basement', 'age'],\n",
      "      dtype='object')\n",
      "14 predictors - 0.9973572801047947\n",
      "------- Index(['bedrooms', 'bathrooms', 'sqft_living', 'sqft_lot', 'floors',\n",
      "       'waterfront', 'view', 'condition', 'grade', 'sqft_above', 'sqft_lot15',\n",
      "       'renovated', 'basement', 'age'],\n",
      "      dtype='object')\n",
      "15 predictors - 0.9974250264583596\n",
      "------- Index(['bedrooms', 'bathrooms', 'sqft_living', 'sqft_lot', 'floors',\n",
      "       'waterfront', 'view', 'condition', 'grade', 'sqft_above',\n",
      "       'sqft_living15', 'sqft_lot15', 'renovated', 'basement', 'age'],\n",
      "      dtype='object')\n"
     ]
    }
   ],
   "source": [
    "#RFE regression of all predictors\n",
    "X = df.drop('price', axis=1)\n",
    "y = df.price\n",
    "X_train, X_test, y_train, y_test = train_test_split(X, y, test_size = 0.35, random_state=47)\n",
    "i = 1\n",
    "while i <= (int(len(df.drop('price', axis=1).columns))):\n",
    "    linreg = LinearRegression()\n",
    "    selector = RFE(linreg, n_features_to_select = i)\n",
    "    selector = selector.fit(X_train, y_train) \n",
    "    selected_columns = X.columns[selector.support_ ]\n",
    "\n",
    "    model = sm.OLS(y_train,X_train[selected_columns])\n",
    "    results = model.fit()\n",
    "    results.summary()\n",
    "    print(str(i) + \" predictors - \" + str(results.rsquared))\n",
    "    print(\"------- \" + str(X_train.columns[selector.support_]))\n",
    "    i += 1"
   ]
  },
  {
   "cell_type": "code",
   "execution_count": 60,
   "metadata": {},
   "outputs": [
    {
     "data": {
      "text/plain": [
       "Index(['price', 'bedrooms', 'bathrooms', 'sqft_living', 'sqft_lot', 'floors',\n",
       "       'waterfront', 'view', 'condition', 'grade', 'sqft_above',\n",
       "       'sqft_living15', 'sqft_lot15', 'renovated', 'basement', 'age'],\n",
       "      dtype='object')"
      ]
     },
     "execution_count": 60,
     "metadata": {},
     "output_type": "execute_result"
    }
   ],
   "source": [
    "df.columns"
   ]
  },
  {
   "cell_type": "code",
   "execution_count": 61,
   "metadata": {},
   "outputs": [
    {
     "data": {
      "text/plain": [
       "LinearRegression(copy_X=True, fit_intercept=True, n_jobs=1, normalize=False)"
      ]
     },
     "execution_count": 61,
     "metadata": {},
     "output_type": "execute_result"
    }
   ],
   "source": [
    "linreg = LinearRegression()\n",
    "selector = RFE(linreg, n_features_to_select = 15)\n",
    "selector = selector.fit(X_train, y_train) \n",
    "selected_columns = X.columns[selector.support_]\n",
    "linreg.fit(X_train[selected_columns],y_train)"
   ]
  },
  {
   "cell_type": "code",
   "execution_count": 62,
   "metadata": {},
   "outputs": [
    {
     "name": "stdout",
     "output_type": "stream",
     "text": [
      "bedrooms -0.035778254370156345\n",
      "bathrooms 0.05802882936448764\n",
      "sqft_living 0.014049996711280745\n",
      "sqft_lot -0.037789494563219006\n",
      "floors 0.08280268704254984\n",
      "waterfront 0.44583833335240225\n",
      "view 0.11191563628483948\n",
      "condition 0.05256572592468691\n",
      "grade 0.1931793552055317\n",
      "sqft_above 0.002920112825766573\n",
      "sqft_living15 0.0001503552426653765\n",
      "sqft_lot15 -0.06292806665825461\n",
      "renovated 0.07021195533517915\n",
      "basement 0.08469829902841622\n",
      "age 0.06275638492889321\n"
     ]
    }
   ],
   "source": [
    "i=0\n",
    "while i < len(selected_columns):\n",
    "    print(str(selected_columns[i]) + \" \" + str(linreg.coef_[i]))\n",
    "    i += 1"
   ]
  },
  {
   "cell_type": "code",
   "execution_count": 63,
   "metadata": {},
   "outputs": [
    {
     "name": "stdout",
     "output_type": "stream",
     "text": [
      "Train Mean Squarred Error: 0.09282541098882754\n",
      "Test Mean Squarred Error: 0.09485821776112013\n"
     ]
    }
   ],
   "source": [
    "from sklearn.metrics import mean_squared_error\n",
    "y_hat_train = linreg.predict(X_train)\n",
    "y_hat_test = linreg.predict(X_test)\n",
    "train_mse = mean_squared_error(y_train, y_hat_train)\n",
    "test_mse = mean_squared_error(y_test, y_hat_test)\n",
    "print('Train Mean Squarred Error:', train_mse)\n",
    "print('Test Mean Squarred Error:', test_mse)"
   ]
  },
  {
   "cell_type": "code",
   "execution_count": 64,
   "metadata": {},
   "outputs": [
    {
     "data": {
      "text/plain": [
       "<matplotlib.legend.Legend at 0x169e2bf3748>"
      ]
     },
     "execution_count": 64,
     "metadata": {},
     "output_type": "execute_result"
    },
    {
     "data": {
      "image/png": "[encoded data removed]",
      "text/plain": [
       "<Figure size 432x288 with 1 Axes>"
      ]
     },
     "metadata": {
      "needs_background": "light"
     },
     "output_type": "display_data"
    }
   ],
   "source": [
    "X = df.drop('price', axis=1)\n",
    "y = df.price\n",
    "train_err = []\n",
    "test_err = []\n",
    "t_sizes = list(range(5,100,5))\n",
    "for t_size in t_sizes:\n",
    "    temp_train_err = []\n",
    "    temp_test_err = []\n",
    "    for i in range(100):\n",
    "        X_train, X_test, y_train, y_test = train_test_split(X, y, test_size=t_size/100)\n",
    "        linreg.fit(X_train, y_train)\n",
    "        y_hat_train = linreg.predict(X_train)\n",
    "        y_hat_test = linreg.predict(X_test)\n",
    "        temp_train_err.append(mean_squared_error(y_train, y_hat_train))\n",
    "        temp_test_err.append(mean_squared_error(y_test, y_hat_test))\n",
    "    train_err.append(np.mean(temp_train_err))\n",
    "    test_err.append(np.mean(temp_test_err))\n",
    "plt.scatter(t_sizes, train_err, label='Training Error')\n",
    "plt.scatter(t_sizes, test_err, label='Testing Error')\n",
    "plt.legend()"
   ]
  },
  {
   "cell_type": "code",
   "execution_count": 65,
   "metadata": {},
   "outputs": [
    {
     "name": "stdout",
     "output_type": "stream",
     "text": [
      "[-3.55761008e-02  6.31257090e-02  1.40002684e-02 -3.93120316e-02\n",
      "  7.59804789e-02  4.39750206e-01  1.11005701e-01  5.06432247e-02\n",
      "  1.94762338e-01  2.95676909e-03  1.46930907e-04 -6.22464816e-02\n",
      "  6.50817359e-02  8.24975446e-02  6.20030022e-02]\n",
      "0.6160080451110045\n"
     ]
    }
   ],
   "source": [
    "linreg = LinearRegression()\n",
    "X_train, X_test, y_train, y_test = train_test_split(X, y, test_size = 0.15, random_state=47)\n",
    "selector = RFE(linreg, n_features_to_select = 15)\n",
    "selector = selector.fit(X_train, y_train) \n",
    "selected_columns = X_train.columns[selector.support_ ]\n",
    "linreg.fit(X_train[selected_columns],y_train)\n",
    "print(linreg.coef_)\n",
    "print(linreg.score(X_test, y_test))"
   ]
  },
  {
   "cell_type": "code",
   "execution_count": 66,
   "metadata": {},
   "outputs": [
    {
     "name": "stderr",
     "output_type": "stream",
     "text": [
      "C:\\Users\\sparr\\Anaconda3\\lib\\site-packages\\sklearn\\ensemble\\weight_boosting.py:29: DeprecationWarning: numpy.core.umath_tests is an internal NumPy module and should not be imported. It will be removed in a future NumPy release.\n",
      "  from numpy.core.umath_tests import inner1d\n"
     ]
    },
    {
     "name": "stdout",
     "output_type": "stream",
     "text": [
      "Random Forest R squared\": 0.6466\n"
     ]
    }
   ],
   "source": [
    "from sklearn.ensemble import RandomForestRegressor\n",
    "\n",
    "forest_reg = RandomForestRegressor(random_state=47)\n",
    "forest_reg.fit(X_train, y_train)\n",
    "print('Random Forest R squared\": %.4f' % forest_reg.score(X_test, y_test))"
   ]
  },
  {
   "cell_type": "code",
   "execution_count": 67,
   "metadata": {},
   "outputs": [
    {
     "name": "stdout",
     "output_type": "stream",
     "text": [
      "Gradient Boosting R squared\": 0.6696\n"
     ]
    }
   ],
   "source": [
    "from sklearn import ensemble\n",
    "from sklearn.ensemble import GradientBoostingRegressor\n",
    "model = ensemble.GradientBoostingRegressor()\n",
    "model.fit(X_train, y_train)\n",
    "print('Gradient Boosting R squared\": %.4f' % model.score(X_test, y_test))"
   ]
  },
  {
   "cell_type": "code",
   "execution_count": 68,
   "metadata": {},
   "outputs": [
    {
     "name": "stdout",
     "output_type": "stream",
     "text": [
      "sqft_lot15-0.29%\n",
      "waterfront-1.42%\n",
      "renovated-1.77%\n",
      "price-1.80%\n",
      "sqft_lot-3.03%\n",
      "floors-3.14%\n",
      "bedrooms-3.40%\n",
      "sqft_living-3.66%\n",
      "view-5.69%\n",
      "grade-6.05%\n",
      "sqft_living15-10.37%\n",
      "bathrooms-11.86%\n",
      "sqft_above-13.79%\n",
      "condition-14.30%\n",
      "basement-19.45%\n"
     ]
    }
   ],
   "source": [
    "feature_labels = np.array(df.columns)\n",
    "importance = model.feature_importances_\n",
    "feature_indexes_by_importance = importance.argsort()\n",
    "for index in feature_indexes_by_importance:\n",
    "    print('{}-{:.2f}%'.format(feature_labels[index], (importance[index] *100.0)))"
   ]
  },
  {
   "cell_type": "code",
   "execution_count": null,
   "metadata": {},
   "outputs": [],
   "source": []
  },
  {
   "cell_type": "code",
   "execution_count": 69,
   "metadata": {},
   "outputs": [],
   "source": [
    "import statsmodels.api as sm\n",
    "model = sm.OLS(y_train,X_train)\n",
    "results = model.fit()"
   ]
  },
  {
   "cell_type": "code",
   "execution_count": 70,
   "metadata": {},
   "outputs": [
    {
     "data": {
      "text/html": [
       "<table class=\"simpletable\">\n",
       "<caption>OLS Regression Results</caption>\n",
       "<tr>\n",
       "  <th>Dep. Variable:</th>          <td>price</td>      <th>  R-squared:         </th> <td>   0.997</td> \n",
       "</tr>\n",
       "<tr>\n",
       "  <th>Model:</th>                   <td>OLS</td>       <th>  Adj. R-squared:    </th> <td>   0.997</td> \n",
       "</tr>\n",
       "<tr>\n",
       "  <th>Method:</th>             <td>Least Squares</td>  <th>  F-statistic:       </th> <td>4.526e+05</td>\n",
       "</tr>\n",
       "<tr>\n",
       "  <th>Date:</th>             <td>Thu, 25 Oct 2018</td> <th>  Prob (F-statistic):</th>  <td>  0.00</td>  \n",
       "</tr>\n",
       "<tr>\n",
       "  <th>Time:</th>                 <td>16:05:25</td>     <th>  Log-Likelihood:    </th> <td> -17547.</td> \n",
       "</tr>\n",
       "<tr>\n",
       "  <th>No. Observations:</th>      <td> 17498</td>      <th>  AIC:               </th> <td>3.512e+04</td>\n",
       "</tr>\n",
       "<tr>\n",
       "  <th>Df Residuals:</th>          <td> 17483</td>      <th>  BIC:               </th> <td>3.524e+04</td>\n",
       "</tr>\n",
       "<tr>\n",
       "  <th>Df Model:</th>              <td>    15</td>      <th>                     </th>     <td> </td>    \n",
       "</tr>\n",
       "<tr>\n",
       "  <th>Covariance Type:</th>      <td>nonrobust</td>    <th>                     </th>     <td> </td>    \n",
       "</tr>\n",
       "</table>\n",
       "<table class=\"simpletable\">\n",
       "<tr>\n",
       "        <td></td>           <th>coef</th>     <th>std err</th>      <th>t</th>      <th>P>|t|</th>  <th>[0.025</th>    <th>0.975]</th>  \n",
       "</tr>\n",
       "<tr>\n",
       "  <th>bedrooms</th>      <td>    0.0447</td> <td>    0.008</td> <td>    5.887</td> <td> 0.000</td> <td>    0.030</td> <td>    0.060</td>\n",
       "</tr>\n",
       "<tr>\n",
       "  <th>bathrooms</th>     <td>   -0.1884</td> <td>    0.023</td> <td>   -8.255</td> <td> 0.000</td> <td>   -0.233</td> <td>   -0.144</td>\n",
       "</tr>\n",
       "<tr>\n",
       "  <th>sqft_living</th>   <td>   -0.0013</td> <td>    0.002</td> <td>   -0.551</td> <td> 0.582</td> <td>   -0.006</td> <td>    0.003</td>\n",
       "</tr>\n",
       "<tr>\n",
       "  <th>sqft_lot</th>      <td>    0.1376</td> <td>    0.016</td> <td>    8.660</td> <td> 0.000</td> <td>    0.106</td> <td>    0.169</td>\n",
       "</tr>\n",
       "<tr>\n",
       "  <th>floors</th>        <td>    0.8656</td> <td>    0.013</td> <td>   65.422</td> <td> 0.000</td> <td>    0.840</td> <td>    0.891</td>\n",
       "</tr>\n",
       "<tr>\n",
       "  <th>waterfront</th>    <td>   -0.1615</td> <td>    0.071</td> <td>   -2.265</td> <td> 0.024</td> <td>   -0.301</td> <td>   -0.022</td>\n",
       "</tr>\n",
       "<tr>\n",
       "  <th>view</th>          <td>   -0.0705</td> <td>    0.019</td> <td>   -3.624</td> <td> 0.000</td> <td>   -0.109</td> <td>   -0.032</td>\n",
       "</tr>\n",
       "<tr>\n",
       "  <th>condition</th>     <td>    0.2694</td> <td>    0.008</td> <td>   32.394</td> <td> 0.000</td> <td>    0.253</td> <td>    0.286</td>\n",
       "</tr>\n",
       "<tr>\n",
       "  <th>grade</th>         <td>    0.5915</td> <td>    0.007</td> <td>   83.578</td> <td> 0.000</td> <td>    0.578</td> <td>    0.605</td>\n",
       "</tr>\n",
       "<tr>\n",
       "  <th>sqft_above</th>    <td>   -0.0017</td> <td>    0.002</td> <td>   -0.711</td> <td> 0.477</td> <td>   -0.006</td> <td>    0.003</td>\n",
       "</tr>\n",
       "<tr>\n",
       "  <th>sqft_living15</th> <td>   -0.0003</td> <td> 1.29e-05</td> <td>  -22.276</td> <td> 0.000</td> <td>   -0.000</td> <td>   -0.000</td>\n",
       "</tr>\n",
       "<tr>\n",
       "  <th>sqft_lot15</th>    <td>    0.5289</td> <td>    0.016</td> <td>   32.992</td> <td> 0.000</td> <td>    0.497</td> <td>    0.560</td>\n",
       "</tr>\n",
       "<tr>\n",
       "  <th>renovated</th>     <td>   -0.0788</td> <td>    0.029</td> <td>   -2.713</td> <td> 0.007</td> <td>   -0.136</td> <td>   -0.022</td>\n",
       "</tr>\n",
       "<tr>\n",
       "  <th>basement</th>      <td>    0.3804</td> <td>    0.020</td> <td>   19.451</td> <td> 0.000</td> <td>    0.342</td> <td>    0.419</td>\n",
       "</tr>\n",
       "<tr>\n",
       "  <th>age</th>           <td>    0.1407</td> <td>    0.003</td> <td>   46.189</td> <td> 0.000</td> <td>    0.135</td> <td>    0.147</td>\n",
       "</tr>\n",
       "</table>\n",
       "<table class=\"simpletable\">\n",
       "<tr>\n",
       "  <th>Omnibus:</th>       <td>752.188</td> <th>  Durbin-Watson:     </th> <td>   1.977</td> \n",
       "</tr>\n",
       "<tr>\n",
       "  <th>Prob(Omnibus):</th> <td> 0.000</td>  <th>  Jarque-Bera (JB):  </th> <td>1002.297</td> \n",
       "</tr>\n",
       "<tr>\n",
       "  <th>Skew:</th>          <td>-0.439</td>  <th>  Prob(JB):          </th> <td>2.26e-218</td>\n",
       "</tr>\n",
       "<tr>\n",
       "  <th>Kurtosis:</th>      <td> 3.776</td>  <th>  Cond. No.          </th> <td>2.90e+04</td> \n",
       "</tr>\n",
       "</table><br/><br/>Warnings:<br/>[1] Standard Errors assume that the covariance matrix of the errors is correctly specified.<br/>[2] The condition number is large, 2.9e+04. This might indicate that there are<br/>strong multicollinearity or other numerical problems."
      ],
      "text/plain": [
       "<class 'statsmodels.iolib.summary.Summary'>\n",
       "\"\"\"\n",
       "                            OLS Regression Results                            \n",
       "==============================================================================\n",
       "Dep. Variable:                  price   R-squared:                       0.997\n",
       "Model:                            OLS   Adj. R-squared:                  0.997\n",
       "Method:                 Least Squares   F-statistic:                 4.526e+05\n",
       "Date:                Thu, 25 Oct 2018   Prob (F-statistic):               0.00\n",
       "Time:                        16:05:25   Log-Likelihood:                -17547.\n",
       "No. Observations:               17498   AIC:                         3.512e+04\n",
       "Df Residuals:                   17483   BIC:                         3.524e+04\n",
       "Df Model:                          15                                         \n",
       "Covariance Type:            nonrobust                                         \n",
       "=================================================================================\n",
       "                    coef    std err          t      P>|t|      [0.025      0.975]\n",
       "---------------------------------------------------------------------------------\n",
       "bedrooms          0.0447      0.008      5.887      0.000       0.030       0.060\n",
       "bathrooms        -0.1884      0.023     -8.255      0.000      -0.233      -0.144\n",
       "sqft_living      -0.0013      0.002     -0.551      0.582      -0.006       0.003\n",
       "sqft_lot          0.1376      0.016      8.660      0.000       0.106       0.169\n",
       "floors            0.8656      0.013     65.422      0.000       0.840       0.891\n",
       "waterfront       -0.1615      0.071     -2.265      0.024      -0.301      -0.022\n",
       "view             -0.0705      0.019     -3.624      0.000      -0.109      -0.032\n",
       "condition         0.2694      0.008     32.394      0.000       0.253       0.286\n",
       "grade             0.5915      0.007     83.578      0.000       0.578       0.605\n",
       "sqft_above       -0.0017      0.002     -0.711      0.477      -0.006       0.003\n",
       "sqft_living15    -0.0003   1.29e-05    -22.276      0.000      -0.000      -0.000\n",
       "sqft_lot15        0.5289      0.016     32.992      0.000       0.497       0.560\n",
       "renovated        -0.0788      0.029     -2.713      0.007      -0.136      -0.022\n",
       "basement          0.3804      0.020     19.451      0.000       0.342       0.419\n",
       "age               0.1407      0.003     46.189      0.000       0.135       0.147\n",
       "==============================================================================\n",
       "Omnibus:                      752.188   Durbin-Watson:                   1.977\n",
       "Prob(Omnibus):                  0.000   Jarque-Bera (JB):             1002.297\n",
       "Skew:                          -0.439   Prob(JB):                    2.26e-218\n",
       "Kurtosis:                       3.776   Cond. No.                     2.90e+04\n",
       "==============================================================================\n",
       "\n",
       "Warnings:\n",
       "[1] Standard Errors assume that the covariance matrix of the errors is correctly specified.\n",
       "[2] The condition number is large, 2.9e+04. This might indicate that there are\n",
       "strong multicollinearity or other numerical problems.\n",
       "\"\"\""
      ]
     },
     "execution_count": 70,
     "metadata": {},
     "output_type": "execute_result"
    }
   ],
   "source": [
    "results.summary()"
   ]
  },
  {
   "cell_type": "code",
   "execution_count": 71,
   "metadata": {},
   "outputs": [
    {
     "name": "stdout",
     "output_type": "stream",
     "text": [
      "Train Mean Squarred Error: 0.09376613179040377\n",
      "Test Mean Squarred Error: 0.09220420146036985\n"
     ]
    }
   ],
   "source": [
    "from sklearn.metrics import mean_squared_error\n",
    "\n",
    "y_hat_train = linreg.predict(X_train)\n",
    "y_hat_test = linreg.predict(X_test)\n",
    "\n",
    "train_mse = mean_squared_error(y_train, y_hat_train)\n",
    "test_mse = mean_squared_error(y_test, y_hat_test)\n",
    "\n",
    "print('Train Mean Squarred Error:', train_mse)\n",
    "print('Test Mean Squarred Error:', test_mse)"
   ]
  },
  {
   "cell_type": "code",
   "execution_count": 72,
   "metadata": {},
   "outputs": [
    {
     "data": {
      "text/plain": [
       "array([-0.07428801, -0.08735429, -0.10779664, -0.10852647, -0.07027502,\n",
       "       -0.08399183, -0.0816896 , -0.10095874, -0.11021037, -0.10186611,\n",
       "       -0.05802304, -0.10213215, -0.09331837, -0.07962663, -0.06342976,\n",
       "       -0.09269057, -0.06835253, -0.09593314, -0.11987583, -0.09552275,\n",
       "       -0.11854481, -0.08862161, -0.10601888, -0.08970363, -0.10431378,\n",
       "       -0.0929516 , -0.10766104, -0.08264981, -0.10222526, -0.08887743,\n",
       "       -0.08310837, -0.09997257, -0.09496709, -0.08807196, -0.09559865,\n",
       "       -0.09353882, -0.08735243, -0.12146524, -0.09827966, -0.08521247,\n",
       "       -0.0826627 , -0.08110022, -0.09706718, -0.08765526, -0.08663787,\n",
       "       -0.05797134, -0.08719211, -0.10563456, -0.09601554, -0.12921187])"
      ]
     },
     "execution_count": 72,
     "metadata": {},
     "output_type": "execute_result"
    }
   ],
   "source": [
    "cv_10_results = cross_val_score(linreg, X_test, y_test, cv=50, scoring=\"neg_mean_squared_error\")\n",
    "\n",
    "cv_10_results"
   ]
  },
  {
   "cell_type": "code",
   "execution_count": null,
   "metadata": {},
   "outputs": [],
   "source": []
  }
 ],
 "metadata": {
  "kernelspec": {
   "display_name": "Python 3",
   "language": "python",
   "name": "python3"
  },
  "language_info": {
   "codemirror_mode": {
    "name": "ipython",
    "version": 3
   },
   "file_extension": ".py",
   "mimetype": "text/x-python",
   "name": "python",
   "nbconvert_exporter": "python",
   "pygments_lexer": "ipython3",
   "version": "3.7.0"
  }
 },
 "nbformat": 4,
 "nbformat_minor": 2
}
